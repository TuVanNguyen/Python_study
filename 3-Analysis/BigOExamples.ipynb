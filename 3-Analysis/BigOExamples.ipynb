{
 "cells": [
  {
   "cell_type": "code",
   "execution_count": null,
   "metadata": {},
   "outputs": [],
   "source": [
    "# A Really Tricky Example\n",
    "i = n\n",
    "while i > 0:\n",
    "   k = 2 + 2\n",
    "   i = i // 2"
   ]
  },
  {
   "cell_type": "markdown",
   "metadata": {},
   "source": [
    "# Big O Analysis\n",
    "The first few iterations of the while loop will be so...\n",
    "  * i = n\n",
    "  * i = n/2\n",
    "  * i = n/4\n",
    "  * i = n/8\n",
    "  * i = n/16\n",
    "\n",
    "So, the value of i seems to follow the formula $i = \\frac{n}{2^k} = 1 $.\n",
    "\n",
    "Solving for k yields...\n",
    "* n = $2^k$\n",
    "* $\\log_2(n)$ = k\n",
    "\n",
    "Therefore, O(log(n))\n"
   ]
  },
  {
   "cell_type": "markdown",
   "metadata": {},
   "source": [
    "## Example Analyzing Anagram Algorithms"
   ]
  },
  {
   "cell_type": "code",
   "execution_count": null,
   "metadata": {},
   "outputs": [],
   "source": [
    "# Solution 1: Checking Off\n",
    "\n",
    "def anagramSolution1(s1,s2):\n",
    "    stillOK = True\n",
    "    if len(s1) != len(s2):\n",
    "        stillOK = False\n",
    "\n",
    "    alist = list(s2)\n",
    "    pos1 = 0\n",
    "\n",
    "    while pos1 < len(s1) and stillOK:\n",
    "        pos2 = 0\n",
    "        found = False\n",
    "        while pos2 < len(alist) and not found:\n",
    "            if s1[pos1] == alist[pos2]:\n",
    "                found = True\n",
    "            else:\n",
    "                pos2 = pos2 + 1\n",
    "\n",
    "        if found:\n",
    "            alist[pos2] = None\n",
    "        else:\n",
    "            stillOK = False\n",
    "\n",
    "        pos1 = pos1 + 1\n",
    "\n",
    "    return stillOK\n",
    "\n",
    "print(anagramSolution1('abcd','dcba'))"
   ]
  },
  {
   "cell_type": "markdown",
   "metadata": {},
   "source": [
    "### Big-O Analysis\n",
    "The above algorithm works by checking that each element in the 1st string is in the 2nd string converted to a list, after checking that they're the same length. It \"checks\" off each common element by replacing it with \"None\" in the list. It confirms that the 2nd string is an anagram of the first when it reaches the end of the string, without finding an element in string 1 that is missing from string 2.\n",
    "\n",
    "* n will be the length of string s1 and s2\n",
    "* The outer while loop iterates  up to n times\n",
    "* The inner while loop iterates over a sequence starting at i=0 up to n, to compare each character\n",
    "* So we can also conceptualize lines 11-25 as T(n) = $\\sum_{i=0}^{n}i = \\frac{n(n+1)}{2} = \\frac{1}{2}n^2 + \\frac{1}{2}n$ \n",
    "* f(n) = $\\frac{1}{2}n^2$\n",
    "* $O(n^2)$\n",
    "\n"
   ]
  },
  {
   "cell_type": "code",
   "execution_count": null,
   "metadata": {},
   "outputs": [],
   "source": [
    "# Solution 2: Sort and Compare\n",
    "\n",
    "def anagramSolution2(s1,s2):\n",
    "    alist1 = list(s1)\n",
    "    alist2 = list(s2)\n",
    "\n",
    "    alist1.sort()\n",
    "    alist2.sort()\n",
    "\n",
    "    pos = 0\n",
    "    matches = True\n",
    "\n",
    "    while pos < len(s1) and matches:\n",
    "        if alist1[pos]==alist2[pos]:\n",
    "            pos = pos + 1\n",
    "        else:\n",
    "            matches = False\n",
    "\n",
    "    return matches\n",
    "\n",
    "print(anagramSolution2('abcde','edcba'))"
   ]
  },
  {
   "cell_type": "markdown",
   "metadata": {},
   "source": [
    "### Big-O Analysis\n",
    "\n",
    "* The while loop line 13-17 is O(n)\n",
    "* However, the sort functions line 7-8 could be $O(n^2)$ or O(nlog(n))\n",
    "* The sorting functions dominate, so it'll be the order of magnitude of the sorting functions."
   ]
  },
  {
   "cell_type": "code",
   "execution_count": null,
   "metadata": {},
   "outputs": [],
   "source": [
    "# Solution 3: Count and Compare\n",
    "def anagramSolution4(s1,s2):\n",
    "    c1 = [0]*26\n",
    "    c2 = [0]*26\n",
    "\n",
    "    for i in range(len(s1)):\n",
    "        pos = ord(s1[i])-ord('a')\n",
    "        c1[pos] = c1[pos] + 1\n",
    "\n",
    "    for i in range(len(s2)):\n",
    "        pos = ord(s2[i])-ord('a')\n",
    "        c2[pos] = c2[pos] + 1\n",
    "\n",
    "    j = 0\n",
    "    stillOK = True\n",
    "    while j<26 and stillOK:\n",
    "        if c1[j]==c2[j]:\n",
    "            j = j + 1\n",
    "        else:\n",
    "            stillOK = False\n",
    "\n",
    "    return stillOK\n",
    "\n",
    "print(anagramSolution4('apple','pleap'))\n"
   ]
  },
  {
   "cell_type": "markdown",
   "metadata": {},
   "source": [
    "### Big O Analysis\n",
    "* n is length of s1 and s2 \n",
    "* lines 6-8 is n\n",
    "* lines 10-12 is n\n",
    "* lines 16-20 is 26 steps (while loop only iterates 26 times max)\n",
    "* $T(n) = 2n + 26$\n",
    "* f(n) = 2n\n",
    "* O(n)"
   ]
  },
  {
   "cell_type": "code",
   "execution_count": null,
   "metadata": {},
   "outputs": [],
   "source": [
    "for i in range(n):\n",
    "   for j in range(n):\n",
    "      k = 2 + 2"
   ]
  },
  {
   "cell_type": "markdown",
   "metadata": {},
   "source": []
  }
 ],
 "metadata": {
  "language_info": {
   "name": "python"
  }
 },
 "nbformat": 4,
 "nbformat_minor": 2
}
