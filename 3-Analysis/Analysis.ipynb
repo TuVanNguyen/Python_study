{
 "cells": [
  {
   "cell_type": "markdown",
   "metadata": {},
   "source": [
    "# Algorithm Analysis\n",
    "    * compare the efficiency of algorithms based on how much computing resources each algorithm uses to solve the same problem\n",
    "        * typical computing resources:\n",
    "            * memory used\n",
    "            * execution time\n",
    "\n",
    "## Example of Benchmark Analysis in Python:"
   ]
  },
  {
   "cell_type": "markdown",
   "metadata": {},
   "source": []
  },
  {
   "cell_type": "code",
   "execution_count": 4,
   "metadata": {},
   "outputs": [
    {
     "name": "stdout",
     "output_type": "stream",
     "text": [
      "Execution time:  5.507469177246094e-05\n"
     ]
    }
   ],
   "source": [
    "import time\n",
    "def sumOfN2(n):\n",
    "    theSum = 0\n",
    "    for i in range(1,n+1):\n",
    "      theSum = theSum + i\n",
    "    return theSum\n",
    "\n",
    "\n",
    "# Performing Benchmark analysis below with time module\n",
    "start = time.time()\n",
    "sumOfN2(10)\n",
    "end = time.time()\n",
    "print(\"Execution time: \",end-start)"
   ]
  },
  {
   "cell_type": "markdown",
   "metadata": {
    "vscode": {
     "languageId": "latex"
    }
   },
   "source": [
    "## Big-O Notation\n",
    "    * Mathematically analyze of algorithm execution time by quantifying the number of operations required to solve the problem\n",
    "    * Notation for function quantifying number of operations: `T(n) = ...`\n",
    "        * n = size of problem\n",
    "        * T(n) = time to solve problem of size n\n",
    "    * Notation for dominant part of T(n): `f(n)`\n",
    "        * f(n) is the fastest growing component of T(n) \n",
    "    * Notation\n",
    "        \n",
    "Example with linear equations:\n",
    "$$\n",
    "T(n) = 3n^2 + n + 5 \\\\\n",
    "f(n) = 3n^2 \\\\\n",
    "O(n) = n^2\n",
    "$$\n",
    "\n",
    "\n"
   ]
  },
  {
   "cell_type": "markdown",
   "metadata": {},
   "source": []
  }
 ],
 "metadata": {
  "kernelspec": {
   "display_name": ".conda",
   "language": "python",
   "name": "python3"
  },
  "language_info": {
   "codemirror_mode": {
    "name": "ipython",
    "version": 3
   },
   "file_extension": ".py",
   "mimetype": "text/x-python",
   "name": "python",
   "nbconvert_exporter": "python",
   "pygments_lexer": "ipython3",
   "version": "3.10.14"
  }
 },
 "nbformat": 4,
 "nbformat_minor": 2
}
