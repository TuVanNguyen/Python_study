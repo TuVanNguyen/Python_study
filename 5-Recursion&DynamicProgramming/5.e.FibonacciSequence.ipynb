{
 "cells": [
  {
   "cell_type": "markdown",
   "metadata": {},
   "source": [
    "# Fibonacci Sequence\n",
    "\n",
    "## Problem Statement\n",
    "Generate a fibonacci sequence of length n. \n",
    "\n",
    "A fibonacci sequence is a sequence of numbers starting with `0,1`. From there, the next number is the sum of the last two numbers. The following is a fibonacci sequence:\n",
    "`0, 1, 1, 2, 3, 5, 8, ... `"
   ]
  },
  {
   "cell_type": "markdown",
   "metadata": {},
   "source": [
    "## Recursion\n",
    "\n",
    "From the problem statement, we know the following base cases:\n",
    "* n = 1: return [0]\n",
    "* n = 2: return [0, 1]\n",
    "\n",
    "We also know that subsequent numbers have the following recurrence relationship:\n",
    "$$ F_n = F_{n-1} + F_{n-2}$$\n",
    "\n",
    "We then have the following recursive case: n > 2. In which case, we want to to do recursive call where we decrement n each time we pass it to the function\n",
    "\n",
    "### Analysis\n",
    "* Time Complexity: O(N)\n",
    "    * We only do one recursive call in each stack layer, and we decrement n by 1 each time\n",
    "    * So we end up creating n stack layers with constant computations in each layer, which gives us time complexity of O(N)\n",
    "* Space Complexity: $O(N^2)$\n",
    "    * We have stack layers taking up N space\n",
    "    * and in each layer we are storing the `sequence` array of length up to n. Adding up the sequence lengths would give us an arithmetic sequence which is $O(N^2)$"
   ]
  },
  {
   "cell_type": "code",
   "execution_count": 9,
   "metadata": {},
   "outputs": [
    {
     "name": "stdout",
     "output_type": "stream",
     "text": [
      "[]\n",
      "[0]\n",
      "[0, 1]\n",
      "[0, 1, 1, 2, 3, 5, 8, 13]\n"
     ]
    }
   ],
   "source": [
    "\"\"\"\n",
    "Recursive Solution to the Fibonacci Sequence\n",
    "\"\"\"\n",
    "\n",
    "from typing import List\n",
    "\n",
    "\n",
    "def fibonacciSequence(n: int) -> List[int]:\n",
    "    base = [0,1]\n",
    "    if n <= len(base):\n",
    "        return base[:n]\n",
    "    sequence = fibonacciSequence(n-1)\n",
    "    sequence.append(sequence[-1] + sequence[-2])\n",
    "    return sequence\n",
    "\n",
    "print(fibonacciSequence(0))\n",
    "print(fibonacciSequence(1))\n",
    "print(fibonacciSequence(2))\n",
    "print(fibonacciSequence(8))"
   ]
  },
  {
   "cell_type": "markdown",
   "metadata": {},
   "source": [
    "# Top-Down Dynamic Programming Solution\n",
    "\n"
   ]
  }
 ],
 "metadata": {
  "kernelspec": {
   "display_name": "Python 3",
   "language": "python",
   "name": "python3"
  },
  "language_info": {
   "codemirror_mode": {
    "name": "ipython",
    "version": 3
   },
   "file_extension": ".py",
   "mimetype": "text/x-python",
   "name": "python",
   "nbconvert_exporter": "python",
   "pygments_lexer": "ipython3",
   "version": "3.10.0"
  }
 },
 "nbformat": 4,
 "nbformat_minor": 2
}
