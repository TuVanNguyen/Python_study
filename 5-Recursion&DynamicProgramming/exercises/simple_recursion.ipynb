{
 "cells": [
  {
   "cell_type": "markdown",
   "metadata": {},
   "source": [
    "Problem: Write a function that takes a string as a parameter and returns a new string that is the reverse of the old string.\n",
    "\n",
    "Recursion Analysis:\n",
    "- Base case: any input of length 0 or 1. In that case, simply return the input\n",
    "- Recursive case: we want to figure out how to transform it so that it becomes the base case after enough iterations. So, we can take off the first character in input before plugging it back into our recursive function. By subtracting the length by one, eventually the input will have a length of 1.\n",
    "- Recursive call: we want the output to appear in an order that solves the problem: in reverse order. So, we call the recursive function before appending the first char to the end of the output.  "
   ]
  },
  {
   "cell_type": "code",
   "execution_count": 4,
   "metadata": {},
   "outputs": [
    {
     "name": "stdout",
     "output_type": "stream",
     "text": [
      "elppa\n"
     ]
    }
   ],
   "source": [
    "def reverse_str(input):\n",
    "    if len(input) <= 1:\n",
    "        return input\n",
    "    return reverse_str(input[1:]) + input[0]\n",
    "\n",
    "print(reverse_str('apple'))"
   ]
  },
  {
   "cell_type": "markdown",
   "metadata": {},
   "source": [
    "Problem: Write a function that takes a string as a parameter and returns True if the string is a palindrome, False otherwise.\n",
    "\n",
    "Recursion Analysis:\n",
    "1. Base case: the input has length equal to or less than one. In which case, return true.\n",
    "2. Recursive case: strip the first and last char of input iff they're equal. \n",
    "3. Recursive call: iff they are equal, recursively pass the string into the function. Else, return false"
   ]
  },
  {
   "cell_type": "code",
   "execution_count": 9,
   "metadata": {},
   "outputs": [
    {
     "name": "stdout",
     "output_type": "stream",
     "text": [
      "True\n",
      "True\n",
      "True\n",
      "False\n"
     ]
    }
   ],
   "source": [
    "import re\n",
    "\n",
    "def palindrome(input):\n",
    "    input = re.sub(r'[^\\w\\d]+','',input).lower() #remove all whitespace and punctuation. Also set to lowercase.\n",
    "    if len(input) <= 1:\n",
    "        return True\n",
    "    if input[0] != input[-1]:\n",
    "        return False\n",
    "    return palindrome(input[1:-1])\n",
    "\n",
    "# Palindromes\n",
    "print(palindrome(\"kayak\"))\n",
    "print(palindrome(\"aibohphobia\"))\n",
    "print(palindrome(\"Reviled did I live, said I, as evil I did deliver\"))\n",
    "\n",
    "# Not Palindromes\n",
    "print(palindrome(\"apple\"))"
   ]
  }
 ],
 "metadata": {
  "kernelspec": {
   "display_name": "Python_Study",
   "language": "python",
   "name": "python3"
  },
  "language_info": {
   "codemirror_mode": {
    "name": "ipython",
    "version": 3
   },
   "file_extension": ".py",
   "mimetype": "text/x-python",
   "name": "python",
   "nbconvert_exporter": "python",
   "pygments_lexer": "ipython3",
   "version": "3.10.14"
  }
 },
 "nbformat": 4,
 "nbformat_minor": 2
}
