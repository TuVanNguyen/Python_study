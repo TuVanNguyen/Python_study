{
 "cells": [
  {
   "cell_type": "markdown",
   "metadata": {},
   "source": [
    "Problem: Write a function that takes a string as a parameter and returns a new string that is the reverse of the old string.\n",
    "\n",
    "Recursion Analysis:\n",
    "1. Base case: any input of length 0 or 1. In that case, simply return the input\n",
    "1. Recursive case: we want to figure out how to transform it so that it becomes the base case after enough iterations. So, we can take off the first character in input before plugging it back into our recursive function. By subtracting the length by one, eventually the input will have a length of 1.\n",
    "1. Recursive call: we want the output to appear in an order that solves the problem: in reverse order. So, we call the recursive function before appending the first char to the end of the output.  "
   ]
  },
  {
   "cell_type": "code",
   "execution_count": 4,
   "metadata": {},
   "outputs": [
    {
     "name": "stdout",
     "output_type": "stream",
     "text": [
      "elppa\n"
     ]
    }
   ],
   "source": [
    "def reverse_str(input):\n",
    "    if len(input) <= 1:\n",
    "        return input\n",
    "    return reverse_str(input[1:]) + input[0]\n",
    "\n",
    "print(reverse_str('apple'))"
   ]
  },
  {
   "cell_type": "markdown",
   "metadata": {},
   "source": [
    "Problem: Write a function that takes a string as a parameter and returns True if the string is a palindrome, False otherwise.\n",
    "\n",
    "Recursion Analysis:\n",
    "1. Base case: \n",
    "    1. the input has length equal to or less than one. In which case, return true.\n",
    "    1. the first and last character in input are not equal. In which case, return false.\n",
    "1. Recursive case: \n",
    "    1. input length is greater than 1 and the first and last character are equal.\n",
    "1. Recursive call\n",
    "    1. We bring the recursive case closer to the base case by stripping the first and last character from the input. Then we pass the resulting string back into the function."
   ]
  },
  {
   "cell_type": "code",
   "execution_count": 9,
   "metadata": {},
   "outputs": [
    {
     "name": "stdout",
     "output_type": "stream",
     "text": [
      "True\n",
      "True\n",
      "True\n",
      "False\n"
     ]
    }
   ],
   "source": [
    "import re\n",
    "\n",
    "def palindrome(input):\n",
    "    input = re.sub(r'[^\\w\\d]+','',input).lower() #remove all whitespace and punctuation. Also set to lowercase.\n",
    "    if len(input) <= 1:\n",
    "        return True\n",
    "    if input[0] != input[-1]:\n",
    "        return False\n",
    "    return palindrome(input[1:-1])\n",
    "\n",
    "# Palindromes\n",
    "print(palindrome(\"kayak\"))\n",
    "print(palindrome(\"aibohphobia\"))\n",
    "print(palindrome(\"Reviled did I live, said I, as evil I did deliver\"))\n",
    "\n",
    "# Not Palindromes\n",
    "print(palindrome(\"apple\"))"
   ]
  },
  {
   "cell_type": "markdown",
   "metadata": {},
   "source": [
    "### Problem\n",
    "Write a recursive function to compute the factorial of a number.\n",
    "\n",
    "### Recursion Analysis\n",
    "1. Base case:\n",
    "    1. n == 0: return 1\n",
    "    1. n == 1 or n == -1: return n\n",
    "1. Recursive Cases:\n",
    "    1. n < -1\n",
    "    1. n > 1\n",
    "1. Recursive Call:\n",
    "    1. We bring the recursive case closer to a base case by adding 1, then passing it back into the function. Then return the result multiplied by n times -1.\n",
    "    1. We bring the recursive case closer to a base case by subtracting 1, then passing it back into the function. Then return the result multiplied by n.\n",
    "    "
   ]
  },
  {
   "cell_type": "code",
   "execution_count": 9,
   "metadata": {},
   "outputs": [
    {
     "name": "stdout",
     "output_type": "stream",
     "text": [
      "-6\n",
      "24\n",
      "2\n",
      "6\n"
     ]
    }
   ],
   "source": [
    "def factorial(n: int) -> int:\n",
    "    \"\"\"\n",
    "    Calculates factorial.\n",
    "    Args:\n",
    "        n: some number\n",
    "    Returns:\n",
    "        the factorial of n\n",
    "    \"\"\"\n",
    "    if n == 0:\n",
    "        return 1\n",
    "    if n == 1 or n == -1:\n",
    "        return n\n",
    "    if n <= -1:\n",
    "        return -1 * n * factorial(n+1)\n",
    "    if n >= 1:\n",
    "        return n * factorial(n-1)\n",
    "\n",
    "print(factorial(-3)) \n",
    "print(factorial(-4))    \n",
    "print(factorial(2)) \n",
    "print(factorial(3)) \n",
    "    \n",
    "    "
   ]
  }
 ],
 "metadata": {
  "kernelspec": {
   "display_name": "Python_Study",
   "language": "python",
   "name": "python3"
  },
  "language_info": {
   "codemirror_mode": {
    "name": "ipython",
    "version": 3
   },
   "file_extension": ".py",
   "mimetype": "text/x-python",
   "name": "python",
   "nbconvert_exporter": "python",
   "pygments_lexer": "ipython3",
   "version": "3.10.14"
  }
 },
 "nbformat": 4,
 "nbformat_minor": 2
}
