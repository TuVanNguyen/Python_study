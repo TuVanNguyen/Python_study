{
 "cells": [
  {
   "cell_type": "markdown",
   "id": "e4a44456",
   "metadata": {},
   "source": [
    "# Dynamic Programming Patterns"
   ]
  },
  {
   "cell_type": "markdown",
   "id": "a7071906",
   "metadata": {
    "vscode": {
     "languageId": "plaintext"
    }
   },
   "source": [
    "## The Fibonacci Pattern\n",
    "\n",
    "### How to Recognize\n",
    "* The recurrence relation between the subproblems is something like $ F_n = F_{n-1} + F_{n-2}$\n",
    "\n",
    "### Examples (easy to harder)\n",
    "* [Fibonacci Sequence](x.Exercises.Easy/FibonacciSequence.ipynb)\n",
    "* [Pascal's Triangle](x.Exercises.Easy/PascalTriangle.ipynb)\n",
    "* [The Climbing Stairs Problem](x.Exercises.Easy/ClimbingStairs.ipynb)\n"
   ]
  },
  {
   "cell_type": "code",
   "execution_count": 2,
   "id": "c579d620",
   "metadata": {},
   "outputs": [
    {
     "name": "stdout",
     "output_type": "stream",
     "text": [
      "2\n"
     ]
    }
   ],
   "source": [
    "\"\"\"\n",
    "Base for Fibonacci Pattern\n",
    "\"\"\"\n",
    "def fibonacci(n: int):\n",
    "    seq = [0,1] # store base case\n",
    "    while n > 1:\n",
    "        next_number = seq[0] + seq[1] # solving the next subproblem with the last 2 subsolutions\n",
    "        seq[0] = seq[1]\n",
    "        seq[1] = next_number\n",
    "        n -= 1 # decrementing the problem space\n",
    "    return seq[n]\n",
    "\n",
    "print(fibonacci(3))"
   ]
  },
  {
   "cell_type": "markdown",
   "id": "5a9e692e",
   "metadata": {},
   "source": [
    "## The Sliding Window Pattern\n",
    "\n",
    "### How To Recognize\n",
    "* The brute force solution has $O(n^2)$ time complexity\n",
    "* The solution involves finding an optimal window within a sequence"
   ]
  },
  {
   "cell_type": "code",
   "execution_count": 2,
   "id": "22c21f20",
   "metadata": {},
   "outputs": [
    {
     "name": "stdout",
     "output_type": "stream",
     "text": [
      "[]\n"
     ]
    }
   ],
   "source": [
    "\"\"\"\n",
    "Sliding Window Base Pattern\n",
    "\"\"\"\n",
    "\n",
    "from typing import List\n",
    "\n",
    "\n",
    "def optimal_window(n: List[int]):\n",
    "    \"\"\"\n",
    "    Args:\n",
    "        n: a sequence \n",
    "    Return:\n",
    "        a sublist with the greatest difference between the beginning and end\n",
    "    \"\"\"\n",
    "    min_index = 0\n",
    "    max_index = 0\n",
    "    for i in range(len(n)):\n",
    "        if n[i] < n[min_index]:\n",
    "            min_index = i\n",
    "        elif n[i] - n[min_index] > n[max_index]:\n",
    "            max_index = i\n",
    "    return (n[min_index:max_index+1]) \n",
    "\n",
    "print(optimal_window([7,6,1,3,4]))"
   ]
  }
 ],
 "metadata": {
  "kernelspec": {
   "display_name": "Python 3",
   "language": "python",
   "name": "python3"
  },
  "language_info": {
   "codemirror_mode": {
    "name": "ipython",
    "version": 3
   },
   "file_extension": ".py",
   "mimetype": "text/x-python",
   "name": "python",
   "nbconvert_exporter": "python",
   "pygments_lexer": "ipython3",
   "version": "3.10.0"
  }
 },
 "nbformat": 4,
 "nbformat_minor": 5
}
