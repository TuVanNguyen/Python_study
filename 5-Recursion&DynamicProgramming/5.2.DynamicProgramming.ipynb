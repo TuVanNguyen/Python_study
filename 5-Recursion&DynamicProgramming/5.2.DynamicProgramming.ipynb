{
 "cells": [
  {
   "cell_type": "markdown",
   "id": "1e2e137f",
   "metadata": {},
   "source": [
    "# Dynamic Programming\n",
    "\n",
    "### What\n",
    "* an algorithmic technique to time and space optimize recursive algorithms containing overlapping subproblems\n",
    "\n",
    "### When DP is Applicable\n",
    "* **Optimal Substructure**: the problem can be broken down into smaller subproblems such that the optimal solution to the problem can be constructed from the optimal subsolutions to the subproblems\n",
    "    * each subproblem must return the same subsolution across all contexts\n",
    "    * in turn, the final solution constructed from the subsolutions must be the same across all contexts for a given input\n",
    "    * Examples that violate optimal substructure:\n",
    "        * Longest Path in Graph: \n",
    "            * the answers to the subproblems depend on which nodes you already visited (change with context)\n",
    "            * you can probably derive multiple different paths, each depending on which order you end up traversing the nodes\n",
    "* **Overlapping Subproblems**: many of the subproblems are recalculating the same values\n",
    "    * DP optimizes by eliminating the need to recalculate overlapping subproblems"
   ]
  },
  {
   "cell_type": "markdown",
   "id": "945f2041",
   "metadata": {},
   "source": [
    "## Top-Down Dynamic Programming (aka Memoization)\n",
    "\n",
    "### Keys\n",
    "* keep a recursive algorithm\n",
    "* add a memoization table to store subsolutions\n",
    "    * usually implemented as a dictionary in python\n",
    "    * usually passed into the function as an argument, so that it's accesible at all stack layers without being a global variable\n",
    "* add a base case to lookup solutions in the memoization table\n"
   ]
  },
  {
   "cell_type": "markdown",
   "id": "7b9afa48",
   "metadata": {},
   "source": [
    "## Bottom-up Dynamic Programming (Tabulation)\n",
    "\n",
    "### Keys\n",
    "* Create a table for storing subsolutions, usually a dictionary in Python\n",
    "* start filling the table with the base cases\n",
    "* from the base cases, calculate the next bigger subsolution\n",
    "* Keep going until you get the final solution "
   ]
  }
 ],
 "metadata": {
  "language_info": {
   "name": "python"
  }
 },
 "nbformat": 4,
 "nbformat_minor": 5
}
