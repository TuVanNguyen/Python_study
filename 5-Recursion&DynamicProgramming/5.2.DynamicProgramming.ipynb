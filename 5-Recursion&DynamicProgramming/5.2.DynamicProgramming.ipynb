{
 "cells": [
  {
   "cell_type": "markdown",
   "id": "1e2e137f",
   "metadata": {},
   "source": [
    "# Dynamic Programming\n",
    "\n",
    "### What\n",
    "* an algorithmic technique to time and space optimize recursive algorithms containing overlapping subproblems\n",
    "\n",
    "### When DP is Applicable\n",
    "* **Optimal Substructure**: the problem can be broken down into smaller subproblems such that the optimal solution to the problem can be constructed from the optimal subsolutions to the subproblems\n",
    "    * each subproblem must return the same subsolution across all contexts\n",
    "    * in turn, the final solution constructed from the subsolutions must be the same across all contexts for a given input\n",
    "    * Examples that violate optimal substructure:\n",
    "        * Longest Path in Graph: \n",
    "            * the answers to the subproblems depend on which nodes you already visited (change with context)\n",
    "            * you can probably derive multiple different paths, each depending on which order you end up traversing the nodes\n",
    "* **Overlapping Subproblems**: many of the subproblems are recalculating the same values\n",
    "    * DP optimizes by eliminating the need to recalculate overlapping subproblems"
   ]
  },
  {
   "cell_type": "markdown",
   "id": "945f2041",
   "metadata": {},
   "source": [
    "## Top-Down Dynamic Programming (aka Memoization)\n",
    "\n"
   ]
  }
 ],
 "metadata": {
  "language_info": {
   "name": "python"
  }
 },
 "nbformat": 4,
 "nbformat_minor": 5
}
