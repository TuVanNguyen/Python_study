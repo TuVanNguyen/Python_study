{
 "cells": [
  {
   "cell_type": "markdown",
   "id": "907473b1",
   "metadata": {},
   "source": [
    "# The Jump Game Example\n",
    "\n",
    "Given an integer array `nums`, each element in the array represent the maximum number of jumps you can make from that position. Determine if you can jump all the way to the last index from index = 0.\n",
    "\n",
    "```\n",
    "Input: nums = [2,3,1,1,4]\n",
    "Output: true\n",
    "Explanation: Jump 1 step from index 0 to 1, then 3 steps to the last index.\n",
    "```"
   ]
  },
  {
   "cell_type": "code",
   "execution_count": null,
   "id": "3d5c99d2",
   "metadata": {},
   "outputs": [],
   "source": [
    "\"\"\"\n",
    "Solution using simple recursion.\n",
    "\n",
    "Base case: \n",
    "\"\"\"\n",
    "\n",
    "from typing import List\n",
    "\n",
    "def canJumpFromPosition(nums: List[int], position: int):\n",
    "    if nums[position] >= len(nums) - position - 1:\n",
    "        return True\n",
    "    max_jump = min()\n",
    "\n",
    "def canJump(nums: List[int]):\n",
    "\n"
   ]
  }
 ],
 "metadata": {
  "language_info": {
   "name": "python"
  }
 },
 "nbformat": 4,
 "nbformat_minor": 5
}
