{
 "cells": [
  {
   "cell_type": "markdown",
   "metadata": {},
   "source": [
    "# Pascal Triangle\n",
    "\n",
    "### Problem Statement\n",
    "Pascal Triangle is an infinite triangular array such that each item is the sum of the upper-left and upper-right items in the array.\n",
    "The item with no items above it (at row=0) is simply 1. Each row is to have 1 more item that the row above it. Create a function that generates a pascal triangle of N rows.\n",
    "\n",
    "```\n",
    "    1\n",
    "   1 1\n",
    "  1 2 1\n",
    " 1 3 3 1\n",
    "1 4 6 4 1\n",
    "```"
   ]
  },
  {
   "cell_type": "code",
   "execution_count": null,
   "metadata": {},
   "outputs": [],
   "source": [
    "\"\"\"\n",
    "Naive Solution with Recursion\n",
    "\"\"\"\n",
    "\n",
    "def pascalTriangle(rows: int, indent:int = 0) -> None:\n",
    "    \"\"\"\n",
    "    Prints a pascal traingle\n",
    "    Args:\n",
    "        rows: number of rows of the triangle that will be printed. Also the current row to print. Should be a positive integer.\n",
    "        indent: size of indentation to line up the current row with the row below it\n",
    "    Returns:\n",
    "        None\n",
    "    \"\"\"\n",
    "    if rows == 1:\n",
    "        print(f\"1\", ) \n"
   ]
  }
 ],
 "metadata": {
  "language_info": {
   "name": "python"
  }
 },
 "nbformat": 4,
 "nbformat_minor": 2
}
