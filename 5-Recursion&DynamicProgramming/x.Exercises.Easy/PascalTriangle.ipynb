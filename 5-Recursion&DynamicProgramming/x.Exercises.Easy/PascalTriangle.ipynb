{
 "cells": [
  {
   "cell_type": "markdown",
   "metadata": {},
   "source": [
    "# Pascal Triangle\n",
    "\n",
    "### Problem Statement\n",
    "Pascal Triangle is an infinite triangular array such that each item is the sum of the upper-left and upper-right items in the array.\n",
    "The item with no items above it (at row=0) is simply 1. Each row is to have 1 more item that the row above it. Create a function that generates a pascal triangle of N rows.\n",
    "\n",
    "```\n",
    "    1\n",
    "   1 1\n",
    "  1 2 1\n",
    " 1 3 3 1\n",
    "1 4 6 4 1\n",
    "```"
   ]
  },
  {
   "cell_type": "markdown",
   "metadata": {},
   "source": [
    "## Recursive Solution\n",
    "We can break down the problem into two problems: generating the rows then printing all the rows as a triangle. We will create two function `pascalRow` and `pascalTriangle` to handle those problems respectively.\n",
    "\n",
    "We implement `pascalRow` with a recursive algorithm as follows...\n",
    "* 2 Base cases \n",
    "    * row < 0: invalid input, return empty list\n",
    "    * row=0: return [1]\n",
    "* Recursive case: row > 1\n",
    "* Recursive call: pascalRow(row-1) -> get last row and use it to construct current row\n",
    "* Recurrence Relation: $F^{r}_{i} = F^{r-1}_{i} + F^{r-1}_{i-1}$ \n",
    "    * $F^{r}_{i}$ is the value at index i of row r in the pascal triangle\n",
    "    * this recurrence relation follows similar pattern to the Fibonacci Sequence\n",
    "    * we use this recurrence relation to construct the solution from the subsolutions to the subproblems\n",
    "\n",
    "\n",
    "### Analysis\n",
    "* Time Complexity: $O(N^2)$\n",
    "    * `pascalRow` is $O(N^2)$\n",
    "        * only 1 recursive call in each layer of stack, so the stack is size O(N)\n",
    "        * in each layer of the stack, we have a for loop up to N which is O(N)\n",
    "        * $T(N) = N * N = O(N^2)$  \n",
    "    * `pascalTriangle` is $O(N^3)$\n",
    "        * the for loop means we end up doing an arithmetic sum of squares of number up to N\n",
    "        * $T(N) = 1^2 + 2^2 +...+N^2$\n",
    "        * Arithmetic sum of squares equation: $S_n = \\frac{n(n+1)(2n+1)}{6}$\n",
    "            * a = 1st term in sequence\n",
    "            * $a_n$ = last term in sequence\n",
    "        * The arithmetic sum of squares equation is $O(N^3)$\n",
    "* Space Complexity: $O(N^2)$\n",
    "    * `pascalRow` is $O(N^2)$: stack length N, each layer creates a new row up to N length\n",
    "        * T(n) = N*N = $O(N^2)$\n",
    "    * We don't really have to worry about the for loop in `pascalTriangle` adding to space complexity because the stack stops existing once the function returns the final solution. So we'll create a new stack N times, but they won't exist at the same time.\n"
   ]
  },
  {
   "cell_type": "code",
   "execution_count": 8,
   "metadata": {},
   "outputs": [
    {
     "name": "stdout",
     "output_type": "stream",
     "text": [
      "[1]\n",
      "[1, 4, 6, 4, 1]\n",
      "[[1], [1, 1], [1, 2, 1], [1, 3, 3, 1]]\n",
      "[]\n"
     ]
    }
   ],
   "source": [
    "\"\"\"\n",
    "Naive Solution with Recursion\n",
    "\"\"\"\n",
    "\n",
    "from typing import List\n",
    "\n",
    "def pascalRow(row: int) -> List[int]:\n",
    "    \"\"\"\n",
    "    Generates the row of the pascal triangle\n",
    "    Args:\n",
    "        row: the index of the row of the pascal triangle; starting with index of 0\n",
    "    \"\"\"\n",
    "    if row < 0:\n",
    "        return []\n",
    "    if row == 0:\n",
    "        return [1] \n",
    "    new_row = [1]\n",
    "    last_row = pascalRow(row-1)\n",
    "    for i in range(1,len(last_row)):\n",
    "        new_row.append(last_row[i-1] + last_row[i])\n",
    "    new_row.append(1)\n",
    "    return new_row\n",
    "     \n",
    "\n",
    "def pascalTriangle(rows: int) -> List[List[int]]:\n",
    "    \"\"\"\n",
    "    Prints a pascal traingle\n",
    "    Args:\n",
    "        rows: number of rows in the triangle\n",
    "    Returns:\n",
    "        a list of lists representing pascal's triangle\n",
    "    \"\"\"\n",
    "    triangle = [pascalRow(row) for row in range(rows)]\n",
    "    return triangle\n",
    "\n",
    "print(pascalRow(0))\n",
    "print(pascalRow(4))\n",
    "\n",
    "print(pascalTriangle(4))\n",
    "print(pascalTriangle(-5))\n"
   ]
  },
  {
   "cell_type": "markdown",
   "metadata": {},
   "source": [
    "## Top-Down Dynamic Programming (Memoization)\n",
    "\n",
    "We know we can use dynamic programming because the problem has...\n",
    "* Optimal substructure:\n",
    "    * each row of the pascal triangle is constructed from the row before it\n",
    "    * each row is constructed the same way in every context\n",
    "* Overlaping Substructure:\n",
    "    * to solve for row i, we generated all the previous rows which are also a subset of the subproblems required to solve for a larger row j\n",
    "\n",
    "To add memoization to eliminate the need recalculate previous rows...\n",
    "* simply add the `triangle` variable to act as memo, add it to `pascalRow` as an argument\n",
    "* modify recursion to add base case and subsolutions to `triangle`\n",
    "\n",
    "### Analysis\n",
    "* Time Complexity: $O(N^2)$\n",
    "    * eliminated the arithmetic sum of squares in `pascalTriangle` by eliminating the need to recalculate smaller pascal triangles\n",
    "    * still $O(N^2)$ because we have to generate a list of size up to N in each layer of a stack of N depth\n",
    "* Space Complexity: $O(N^2)$\n",
    "    * size of the triangle we're storing in the `triangle` variable\n",
    "\n",
    "\n"
   ]
  },
  {
   "cell_type": "code",
   "execution_count": null,
   "metadata": {},
   "outputs": [
    {
     "name": "stdout",
     "output_type": "stream",
     "text": [
      "[1]\n",
      "[1, 4, 6, 4, 1]\n",
      "[[1], [1, 1], [1, 2, 1], [1, 3, 3, 1], [1, 4, 6, 4, 1]]\n",
      "[]\n"
     ]
    }
   ],
   "source": [
    "\"\"\"\n",
    "Top Down dynamic programming solution to pascal's triangle\n",
    "\"\"\"\n",
    "\n",
    "def pascalRow(row: int, triangle: dict=None) -> List[int]:\n",
    "    if not triangle:\n",
    "        triangle = {}\n",
    "    if row == 0:\n",
    "        triangle[row] = [1]\n",
    "    if row in triangle:\n",
    "        return triangle[row]\n",
    "    last_row = pascalRow(row-1, triangle)\n",
    "    triangle[row] = [1] + [last_row[i-1] + last_row[i] for i in range(1,len(last_row))] + [1]\n",
    "    return triangle[row]\n",
    "\n",
    "\n",
    "def pascalTriangle(rows: int) -> List[List[int]]:\n",
    "    \"\"\"\n",
    "    Generates an array representing pascal's triangle\n",
    "    Args: \n",
    "        row: number of rows to generate in pascal's triangle\n",
    "    Returns:\n",
    "        pascal's triangle with specified number of rows\n",
    "    \"\"\"\n",
    "    triangle = {}\n",
    "    pt = [pascalRow(i, triangle) for i in range(rows)]\n",
    "    return pt\n",
    "\n",
    "print(pascalRow(0))\n",
    "print(pascalRow(4))\n",
    "\n",
    "print(pascalTriangle(5))\n",
    "print(pascalTriangle(-5))"
   ]
  },
  {
   "cell_type": "markdown",
   "metadata": {},
   "source": [
    "## Bottom Up Dynamic Programming (Tabulation)\n",
    "\n",
    "Use the recurrence relation $F^{r}_{i} = F^{r-1}_{i} + F^{r-1}_{i-1}$ to create an iterative algorithm.\n",
    "\n",
    "Use the base case to initialize the `triangle` table. Iterate over the number of rows, using the recurrence relation to build the next row from the last row. "
   ]
  },
  {
   "cell_type": "code",
   "execution_count": 15,
   "metadata": {},
   "outputs": [
    {
     "name": "stdout",
     "output_type": "stream",
     "text": [
      "[]\n",
      "[[1], [1, 1], [1, 2, 1], [1, 3, 3, 1], [1, 4, 6, 4, 1]]\n",
      "[]\n",
      "[[1]]\n"
     ]
    }
   ],
   "source": [
    "\"\"\"\n",
    "Bottom Up Dynamic Programming\n",
    "\"\"\"\n",
    "\n",
    "from typing import List\n",
    "\n",
    "def pascalTriangle(rows: int) -> List[List[int]]:\n",
    "    triangle = [[1]]\n",
    "    for row in range(rows-1):\n",
    "        current_row = triangle[row]\n",
    "        next_row = [1] + [current_row[i-1] + current_row[i] for i in range(1,len(current_row))] + [1]\n",
    "        triangle.append(next_row)\n",
    "    return triangle[:rows]\n",
    "\n",
    "print(pascalTriangle(-5))\n",
    "print(pascalTriangle(5))\n",
    "print(pascalTriangle(0))\n",
    "print(pascalTriangle(1))\n"
   ]
  }
 ],
 "metadata": {
  "kernelspec": {
   "display_name": "Python 3",
   "language": "python",
   "name": "python3"
  },
  "language_info": {
   "codemirror_mode": {
    "name": "ipython",
    "version": 3
   },
   "file_extension": ".py",
   "mimetype": "text/x-python",
   "name": "python",
   "nbconvert_exporter": "python",
   "pygments_lexer": "ipython3",
   "version": "3.10.0"
  }
 },
 "nbformat": 4,
 "nbformat_minor": 2
}
