{
 "cells": [
  {
   "cell_type": "markdown",
   "metadata": {},
   "source": [
    "# Fibonacci Sequence\n",
    "\n",
    "## Problem Statement\n",
    "Generate a fibonacci sequence of length n. \n",
    "\n",
    "A fibonacci sequence is a sequence of numbers starting with `0,1`. From there, the next number is the sum of the last two numbers. The following is a fibonacci sequence:\n",
    "`0, 1, 1, 2, 3, 5, 8, ... `"
   ]
  },
  {
   "cell_type": "markdown",
   "metadata": {},
   "source": [
    "## Recursion\n",
    "\n",
    "From the problem statement, we know the following base cases:\n",
    "* n = 1: return [0]\n",
    "* n = 2: return [0, 1]\n",
    "\n",
    "We also know that subsequent numbers have the following recurrence relationship:\n",
    "$$ F_n = F_{n-1} + F_{n-2}$$\n",
    "\n",
    "We then have the following recursive case: n > 2. In which case, we want to to do recursive call where we decrement n each time we pass it to the function\n",
    "\n",
    "### Analysis\n",
    "* Time Complexity: $O(2^N)$\n",
    "    * We only do two recursive calls in each stack layer in `fibonacciNumber`, and we decrement n by 1 each time\n",
    "        * With each recursive call branching into 2 more recursive call, `fibonacciNumber`'s time complexity would be the size of a binary tree which is $O(2^N)$\n",
    "    * In `fibonacciSequence`, we do need to sum up the computions of `fibonacciNumber` for inputs up to N\n",
    "        * T(N) = $2^1 + 2^2 + 2^3 + ... + 2^N$\n",
    "        * T(N) < $2^{N+1}$\n",
    "        * T(N) = $O(2^N)$\n",
    "\n",
    "* Space Complexity: $O(N)$\n",
    "    * Each stack layer in `fibonacciNumber` isn't storing extra variables\n",
    "    * space required is depth of stack plus the sequence being generated\n",
    "    * T(N) = N + N = 2N = O(N)"
   ]
  },
  {
   "cell_type": "code",
   "execution_count": null,
   "metadata": {},
   "outputs": [
    {
     "name": "stdout",
     "output_type": "stream",
     "text": [
      "[]\n",
      "[0]\n",
      "[0, 1]\n",
      "[0, 1, 1, 2, 3, 5, 8, 13]\n",
      "[]\n"
     ]
    }
   ],
   "source": [
    "\"\"\"\n",
    "Recursive Solution to the Fibonacci Sequence\n",
    "\"\"\"\n",
    "\n",
    "from typing import List\n",
    "\n",
    "def fibonacciNumber(n: int) -> int:\n",
    "    \"\"\"\n",
    "    Generates the n^th number in the fibonacci sequence, starting index at 0.\n",
    "    Args:\n",
    "        n: the index in the fibonacci sequence\n",
    "    Return:\n",
    "        the number at index n of the fibonacci sequence \n",
    "    \"\"\"\n",
    "    if n <= 1:\n",
    "        return n\n",
    "    return fibonacciNumber(n-1) + fibonacciNumber(n-2)\n",
    "\n",
    "def fibonacciSequence(n: int) -> List[int]:\n",
    "    \"\"\"\n",
    "    Generates fibonacci sequence\n",
    "    Args:\n",
    "        n: length of the sequence to generate\n",
    "    Return:\n",
    "        the fibonacci sequence\n",
    "    \"\"\"\n",
    "    sequence = []\n",
    "    for i in range(n):\n",
    "        sequence.append(fibonacciNumber(i))\n",
    "    return sequence\n",
    "\n",
    "print(fibonacciSequence(0))\n",
    "print(fibonacciSequence(1))\n",
    "print(fibonacciSequence(2))\n",
    "print(fibonacciSequence(8))\n",
    "print(fibonacciSequence(-7))\n"
   ]
  },
  {
   "cell_type": "markdown",
   "metadata": {},
   "source": [
    "# Top-Down Dynamic Programming Solution \n",
    "#### AKA Recursion with Memoization\n",
    "\n",
    "Time complexity for `fibonacciNumber()` is pretty big. The function comes up with its solution by generating all previous terms in the sequence, so it redundantly recalculates the same parts of the sequence with two recursive calls. We know that the computations for fibonacciNumber(N-2) is a subset of the ones for fibonacciNumber(N-1). If we can store the intermediate computations in a new variable called `memo`, we can only compute each value of the sequence once and lookup computed values at O(N).\n",
    "\n",
    "### Confirming that We can Use Dynamic Programming\n",
    "* Optimal Substructure: Yes\n",
    "    * the subproblems are calculating all the fibonacci numbers at indices less than n\n",
    "    * the fibonacci numbers will always be the same, regardless of which order they are calculated or how many times they are calculated\n",
    "* Overlapping Subproblems: Yes\n",
    "    * the sequence of numbers calculated for fibonacciNumber(N-2) is a subset of the numbers calculated for fibonacciNumber(N-1) \n",
    "\n",
    "### Analysis\n",
    "* Time Complexity: $O(N)$\n",
    "    * With memoization, we only need to compute each $i^{th}$ number in the fibonacci sequence once and can look it up again at O(1) \n",
    "* Space Complexity: $O(N)$\n",
    "    * Between `fibonacciNumber()` and `fibonacciSequence()`, they populate the same instance of `memo` with N values\n",
    "    * `fibonacciSequence()` also creates a list of N length\n",
    "    * T(N) = N + N = 2N = O(N)"
   ]
  },
  {
   "cell_type": "code",
   "execution_count": null,
   "metadata": {},
   "outputs": [
    {
     "name": "stdout",
     "output_type": "stream",
     "text": [
      "0\n",
      "1\n",
      "1\n",
      "21\n",
      "[]\n",
      "[0]\n",
      "[0, 1]\n",
      "[0, 1, 1, 2, 3]\n",
      "[]\n"
     ]
    }
   ],
   "source": [
    "\"\"\"\n",
    "Top-down Dynamic Programming Solution to the Fibonacci Sequence\n",
    "\"\"\"\n",
    "\n",
    "from typing import List\n",
    "\n",
    "def fibonacciNumber(n: int, memo: dict = None) -> int:\n",
    "    \"\"\"\n",
    "    Generates the fibonacci sequence\n",
    "    Args:\n",
    "        n: must be positive integer; length of the sequence to generate\n",
    "    Return:\n",
    "        memo: stores the fibonacci sequence up to n\n",
    "    \"\"\"\n",
    "    if not memo:\n",
    "        memo = {}\n",
    "    if n < 0:\n",
    "        return 0\n",
    "    if n <= 1:\n",
    "        memo[n] = n\n",
    "        return n\n",
    "    if n in memo:\n",
    "        return memo[n]\n",
    "    memo[n] = fibonacciNumber(n-1, memo) + fibonacciNumber(n-2, memo)\n",
    "    return memo[n]\n",
    "\n",
    "def fibonacciSequence(n: int) -> List[int]:\n",
    "    memo = {}\n",
    "    sequence = [fibonacciNumber(i, memo) for i in range(n)]\n",
    "    return sequence\n",
    "\n",
    "print(fibonacciNumber(0))\n",
    "print(fibonacciNumber(1))\n",
    "print(fibonacciNumber(2))\n",
    "print(fibonacciNumber(8))\n",
    "\n",
    "print(fibonacciSequence(0))\n",
    "print(fibonacciSequence(1))\n",
    "print(fibonacciSequence(2))\n",
    "print(fibonacciSequence(5))\n",
    "print(fibonacciSequence(-7))"
   ]
  },
  {
   "cell_type": "markdown",
   "metadata": {},
   "source": [
    "## Bottom Up Dynamic Programming Solution (Tabulation)\n",
    "Going back to the recursive solution, we know the recurence relation of each subproblem is $ F_n = F_{n-1} + F_{n-2}$. \n",
    "\n",
    "We also know the base cases:\n",
    "* n = 0: return [0]\n",
    "* n = 1: return [1]\n",
    "\n",
    "So to do bottom up dynamic programming, we simply need to replace the recursion with an iterative algorithm. We start with the base case [0,1] as our starting sequence. To the sequence, we iteratively append the sum of the last two terms. And we keep doing this until we have our final solution.\n",
    "\n",
    "### Analysis\n",
    "* Time Complexity: O(N)\n",
    "    * simple for loop up to n terms\n",
    "* Space Complexity: O(N)\n",
    "    * best case, we simply need to store the sequence we'll have to return anyways"
   ]
  },
  {
   "cell_type": "code",
   "execution_count": 14,
   "metadata": {},
   "outputs": [
    {
     "name": "stdout",
     "output_type": "stream",
     "text": [
      "[]\n",
      "[0]\n",
      "[0, 1]\n",
      "[0, 1, 1, 2, 3]\n",
      "[]\n"
     ]
    }
   ],
   "source": [
    "\"\"\"\n",
    "Bottom Up Dynamic Programming for Fibonacci Sequence\n",
    "\"\"\"\n",
    "\n",
    "from typing import List\n",
    "\n",
    "def fibonacciSequence(n: int) -> List[int]:\n",
    "    \"\"\"\n",
    "    Calculates the fibonacci sequence up to n^th number\n",
    "    Args:\n",
    "        n: must be a positive integer, length of fibonacci sequence\n",
    "    Return:\n",
    "        the fibonacci sequence of length n\n",
    "    \"\"\"\n",
    "    sequence = [0,1]\n",
    "    for i in range(2,n):\n",
    "        sequence.append(sequence[i-1] + sequence[i-2])\n",
    "    return sequence[:n]\n",
    "\n",
    "\n",
    "print(fibonacciSequence(0))\n",
    "print(fibonacciSequence(1))\n",
    "print(fibonacciSequence(2))\n",
    "print(fibonacciSequence(5))\n",
    "print(fibonacciSequence(-7))\n",
    "    "
   ]
  },
  {
   "cell_type": "code",
   "execution_count": null,
   "metadata": {},
   "outputs": [],
   "source": []
  }
 ],
 "metadata": {
  "kernelspec": {
   "display_name": "Python 3",
   "language": "python",
   "name": "python3"
  },
  "language_info": {
   "codemirror_mode": {
    "name": "ipython",
    "version": 3
   },
   "file_extension": ".py",
   "mimetype": "text/x-python",
   "name": "python",
   "nbconvert_exporter": "python",
   "pygments_lexer": "ipython3",
   "version": "3.10.0"
  }
 },
 "nbformat": 4,
 "nbformat_minor": 2
}
