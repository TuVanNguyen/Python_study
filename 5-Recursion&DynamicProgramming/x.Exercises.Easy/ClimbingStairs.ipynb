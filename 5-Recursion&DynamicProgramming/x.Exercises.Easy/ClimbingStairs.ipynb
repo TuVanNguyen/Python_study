{
 "cells": [
  {
   "cell_type": "markdown",
   "id": "0144d766",
   "metadata": {},
   "source": [
    "# Climbing Stairs Problem\n",
    "\n",
    "You are climbing a staircase. It takes n steps to reach the top.\n",
    "Each time you can either climb 1 or 2 steps. In how many distinct ways can you climb to the top?\n",
    "\n",
    "#### Example\n",
    "* Input: n = 2\n",
    "* Output: 2\n",
    "* Explanation: There are two ways to climb to the top.\n",
    "    1. 1 step + 1 step\n",
    "    1. 2 steps\n",
    "\n",
    "#### Example\n",
    "* Input: n = 3\n",
    "* Output: 3\n",
    "* Explanation: There are three ways to climb to the top.\n",
    "    1. 1 step + 1 step + 1 step\n",
    "    1. 1 step + 2 steps\n",
    "    1. 2 steps + 1 step\n",
    "\n"
   ]
  },
  {
   "cell_type": "markdown",
   "id": "3edba07f",
   "metadata": {},
   "source": [
    "## Approach 1: Brute Force with Simple Recursion\n",
    "We can use recursion to check each combination of 1 and 2 steps, until we run out of steps. If the combination works, we add it to our count of step combinations. If not, we skip it.\n",
    "\n",
    "* Base Case:\n",
    "    * n < 0: having negative steps left not possible in a valid combination, so we return 0 \n",
    "    * n <= 1: with 0 or 1 steps left, the combination is valid. So we return 1\n",
    "* Recursive Case:\n",
    "    * n > 1: we call the climbStairs function to solve the subproblem: the number of combinations we can do after taking 1 or 2 steps \n",
    "    * the solution to that subproblem is simply climbStairs(n-1) + climbStairs(n-2)\n",
    "* State Change: we call the climbStairs functions twice\n",
    "    * climbStairs(n-1) : number of combos left after we take 1 step\n",
    "    * climbStairs(n-2) : number of combos left after taking 2 steps\n",
    "    * in each of these cases, we are decrementing the problem space until we reach the base case n <= 1\n"
   ]
  },
  {
   "cell_type": "code",
   "execution_count": 1,
   "id": "02fd089c",
   "metadata": {},
   "outputs": [
    {
     "name": "stdout",
     "output_type": "stream",
     "text": [
      "8\n"
     ]
    }
   ],
   "source": [
    "def climbStairs(n: int):\n",
    "    if n < 0:\n",
    "        return 0\n",
    "    elif n <= 1:\n",
    "        return 1\n",
    "    return climbStairs(n-1) + climbStairs(n-2)\n",
    "\n",
    "print(climbStairs(5))"
   ]
  },
  {
   "cell_type": "markdown",
   "id": "e00294b6",
   "metadata": {},
   "source": [
    "### Analysis of Simple Recursion\n",
    "* Time Complexity: $O(2^N)$\n",
    "    * because we call climbStairs() twice in each layer of the stack, we end up forming a tree\n",
    "    * each node in the tree will have 2 children for each time we call climbStairs() for a particular value of n\n",
    "* Space complexity: $O(N)$\n",
    "    * space complexity of a recursion is the depth of the stack\n",
    "    * the depth of the tree we've created is simply N"
   ]
  },
  {
   "cell_type": "markdown",
   "id": "78370577",
   "metadata": {},
   "source": [
    "## Approach 2: Recursion with Memoization (Top-Down Dynamic Programming)\n",
    "Simple recursion is highly inefficient because it requires recalculating subproblems multiple times.\n",
    "We can dramatically reduce the computation time, by storing the solutions of the subproblem in an array called `memo`\n",
    "\n",
    "The subproblem solution $n_i$ can be found at memo[n_i]. We'll need to add another base case where we return $memo[n_i]$ if memo contains it. We build memo in the recursive case, simply appending the solution to memo after calculating it. Because recursion creates a stack that ends at the base case, we end up solving the smallest subproblems first. So memo will be in order, for solutions of increasing n.\n",
    "\n",
    "We can simplify even further by storing one of the base cases $1<n<1$ (one of the subproblems with an answer we know), as the initial first value in memo."
   ]
  },
  {
   "cell_type": "code",
   "execution_count": 15,
   "id": "e34fbdc5",
   "metadata": {},
   "outputs": [
    {
     "name": "stdout",
     "output_type": "stream",
     "text": [
      "13\n"
     ]
    }
   ],
   "source": [
    "memo = [1]\n",
    "def climbStairs(n: int):\n",
    "    if n < 0:\n",
    "        return 0\n",
    "    elif len(memo) > n-1:\n",
    "        return memo[n-1]\n",
    "    memo.append(climbStairs(n-1) + climbStairs(n-2))\n",
    "    return memo[n-1]\n",
    "\n",
    "print(climbStairs(6))"
   ]
  },
  {
   "cell_type": "markdown",
   "id": "a598ce20",
   "metadata": {},
   "source": [
    "### Analysis of Recursion with Memoization\n",
    "* Time Complexity: O(n)\n",
    "    * we are only calculating each value of memo once\n",
    "    * subsequent calls for same $n_i$, means retrieving memo[$n_i$] which is constant time\n",
    "    * we stop after appending the $n^{th}$ solution to memo\n",
    "    * so the time complexity ends up being O(n)\n",
    "* Space Complexity: O(n)\n",
    "    * memo exists outside of the stack, so we'd just add it to the space complexity of the stack\n",
    "    * T(n) = n + n = O(n)"
   ]
  },
  {
   "cell_type": "markdown",
   "id": "9fd4d94a",
   "metadata": {},
   "source": [
    "## Approach 3: Bottom Up Dynamic Programming\n",
    "To achieve bottom up dynamic programming, we need to understand how the subproblem solutions relate to the final solution.\n",
    "We can do this by analyzing the pattern as we increase n from the base case:\n",
    "\n",
    "| n | solution | notes |\n",
    "|---|----------|-------|\n",
    "| 0 | 1 | base case |\n",
    "| 1 | 1 | base case |\n",
    "| 2 | 2 | = n[0] + n[1] |\n",
    "| 3 | 3 | = n[1] + n[2] |\n",
    "| 4 | 5 | = n[2] + n[3] |\n",
    "| 5 | 8 | = n[3] + n[4] |\n",
    "| 6 | 13| = n[4] + n[5] |\n",
    "\n",
    "The pattern is that the solution for a given n is going to equal the sum of the subproblem solutions for (n-1) and n(-2). Note that this mirrors the recursive case in the top-to-bottom approach. This is also the same pattern for calculating fibonacci numbers.\n",
    "\n",
    "Knowing this we can construct a bottom-up approach by simply summing up the last two subsolutions until we reach n."
   ]
  },
  {
   "cell_type": "code",
   "execution_count": null,
   "id": "4cf95d87",
   "metadata": {},
   "outputs": [],
   "source": [
    "def climbStairs(n: int):\n",
    "    solutions = [1,1]\n",
    "    while n > 1:\n",
    "        next_value = solutions[0] + solutions[1]\n",
    "        solutions[0] = solutions[1]\n",
    "        solutions[1] = next_value\n",
    "        n -= 1\n",
    "    return solutions[n]\n"
   ]
  },
  {
   "cell_type": "markdown",
   "id": "89c0f9e3",
   "metadata": {},
   "source": [
    "### Analysis of Bottom-Up Dynamic Programming\n",
    "* Time Complexity: O(n)\n",
    "    * the while loop decrements n by 1 until n <= 1\n",
    "* Space Complexity: O(1)\n",
    "    * we're not creating new data structures besides the solutions array, which is constant size"
   ]
  }
 ],
 "metadata": {
  "kernelspec": {
   "display_name": "Python 3",
   "language": "python",
   "name": "python3"
  },
  "language_info": {
   "codemirror_mode": {
    "name": "ipython",
    "version": 3
   },
   "file_extension": ".py",
   "mimetype": "text/x-python",
   "name": "python",
   "nbconvert_exporter": "python",
   "pygments_lexer": "ipython3",
   "version": "3.10.0"
  }
 },
 "nbformat": 4,
 "nbformat_minor": 5
}
