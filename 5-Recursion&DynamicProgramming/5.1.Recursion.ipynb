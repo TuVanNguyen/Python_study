{
 "cells": [
  {
   "cell_type": "markdown",
   "metadata": {},
   "source": [
    "# Recursion\n",
    "* method of solving problems by continuing to break them into smaller subproblems until they can be solved trivially\n",
    "* usually involves function calling itself\n",
    "\n",
    "### When to use recursion\n",
    "* when you need a more intuitive way to solve a problem initially\n",
    "* when an iterative algorithm is hard to conceptualize initially\n",
    "\n",
    "### When to not use recursion or reimplement as in iterative algorithm\n",
    "* Huge tradeoff in time and space complexity, that could be made much more efficient with an iterative solution\n",
    "* Also see Dynamic Programming to better optimize recursive algorithms\n",
    "\n",
    "### The Three Rules of Recursion\n",
    "- Base Case: A recursive algorithm must have a base case that is small enough to solve directly\n",
    "- Recursive Case: A recursive algorithm must call itself recursively if it does not meet the base case\n",
    "- State Change: A recursive algorithm must change its state, so that it moves towards the base case\n",
    "    * the problem space diminishes as subproblems get solved with each recursive call\n",
    "    * by the time we hit the base case, we'd be able to build the final solution from all the subproblem solutions generated in the recursion stack "
   ]
  },
  {
   "cell_type": "code",
   "execution_count": 1,
   "metadata": {},
   "outputs": [
    {
     "name": "stdout",
     "output_type": "stream",
     "text": [
      "25\n",
      "25\n"
     ]
    }
   ],
   "source": [
    "# Example using Summation\n",
    "\n",
    "#Non-recursive function\n",
    "def listsum(numList):\n",
    "    theSum = 0\n",
    "    for i in numList:\n",
    "        theSum = theSum + i\n",
    "    return theSum\n",
    "\n",
    "# Recursive function\n",
    "def recursive_sum(numList):\n",
    "    # The Base Case (crucial to know when to stop recursive calls)\n",
    "    #It is a problem that is small enough to solve directly\n",
    "    if len(numList) == 1:\n",
    "        return numList[0]\n",
    "    #The recursive call which also alters the state to move towards the base case    \n",
    "    return numList[0] + recursive_sum(numList[1:])    \n",
    "\n",
    "print(listsum([1,3,5,7,9]))\n",
    "print(recursive_sum([1,3,5,7,9]))\n"
   ]
  },
  {
   "cell_type": "markdown",
   "metadata": {},
   "source": [
    "## Stack Analogy: A Framework for Understanding Recursion\n",
    "* Say we have a stack for storing intermittent values from recursive steps\n",
    "* Base case: if the stack has only one item, simply return it\n",
    "* Recursive case: \n",
    "    * we break the problem into the following subproblem: find the sum for the rest of the list after index = 0\n",
    "    * we add the answers of that subproblems to the first item in the list\n",
    "* State Change: with each call of recursive_sum(), we pass a sublist with 1 less element\n",
    "    * when we hit the base case, we start returning all the values in the stack in LIFO order\n",
    "    * Each value gets plugged into the next item in the stack\n",
    "    * the full value returned should answer the problem that we were trying to solve with recursion\n",
    "\n"
   ]
  },
  {
   "cell_type": "markdown",
   "metadata": {},
   "source": [
    "## Visualizing Recursion\n",
    "* One application for recursion is creating fractals as fractals are created by iterating over more subdivided space\n"
   ]
  },
  {
   "cell_type": "code",
   "execution_count": 1,
   "metadata": {},
   "outputs": [],
   "source": [
    "# Example of fractals\n",
    "\n",
    "import turtle\n",
    "\n",
    "myTurtle = turtle.Turtle()\n",
    "myWin = turtle.Screen()\n",
    "\n",
    "def drawSpiral(myTurtle, lineLen):\n",
    "    if lineLen > 0:\n",
    "        myTurtle.forward(lineLen)\n",
    "        myTurtle.right(90)\n",
    "        drawSpiral(myTurtle,lineLen-5)\n",
    "\n",
    "drawSpiral(myTurtle,100)\n",
    "myWin.exitonclick()"
   ]
  }
 ],
 "metadata": {
  "kernelspec": {
   "display_name": "Python_Study",
   "language": "python",
   "name": "python3"
  },
  "language_info": {
   "codemirror_mode": {
    "name": "ipython",
    "version": 3
   },
   "file_extension": ".py",
   "mimetype": "text/x-python",
   "name": "python",
   "nbconvert_exporter": "python",
   "pygments_lexer": "ipython3",
   "version": "3.10.14"
  }
 },
 "nbformat": 4,
 "nbformat_minor": 2
}
