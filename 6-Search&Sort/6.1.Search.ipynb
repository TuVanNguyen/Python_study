{
 "cells": [
  {
   "cell_type": "markdown",
   "metadata": {},
   "source": [
    "# 6.1 Search\n",
    "\n",
    "## Sequential Search\n",
    "* most simple search algorithm\n",
    "* works on sorted and unsorted lists\n",
    "\n",
    "### Method\n",
    "* Just iterate over the list\n",
    "* if you find the search item, return True\n",
    "* if you reach the end of the list without finding search item, return False\n",
    "\n",
    "### Analysis\n",
    "* Time Complexity: O(n)\n",
    "    * Best case: O(1) ; item is at beginning of list\n",
    "    * Worst case: O(n); item at end of list or not present\n",
    "    * Average case O(n/2): item is in middle of list on average"
   ]
  },
  {
   "cell_type": "code",
   "execution_count": 2,
   "metadata": {},
   "outputs": [
    {
     "name": "stdout",
     "output_type": "stream",
     "text": [
      "True\n",
      "False\n"
     ]
    }
   ],
   "source": [
    "# Implement Sequential Search\n",
    "\n",
    "def sequentialSearch(item, search_list):\n",
    "    for list_item in search_list:\n",
    "        if list_item == item:\n",
    "            return True\n",
    "    return False\n",
    "\n",
    "print(sequentialSearch(1, [2,3,1,4]))\n",
    "print(sequentialSearch(5, [2,3,1,4]))"
   ]
  },
  {
   "cell_type": "markdown",
   "metadata": {},
   "source": [
    "# Binary Search\n",
    "* only works on sorted list\n",
    "* divide-and-conquer strategy\n",
    "\n",
    "## Method\n",
    "1. Find the midpoint of the list. Check if the search item is at the midpoint\n",
    "1. If you're still looking for the item, compare the search item to the midpoint. Keep the left side of the list if search_item < midpoint. Else, keep left side\n",
    "1. Repeat steps 1-2 until you find the search item or you run out of list items to compare\n",
    "\n",
    "## Analysis\n",
    "* We can turn this into a recursion:\n",
    "    * Base case #1: if search list is empty or None, return False\n",
    "    * Base case #2: if search item is equal to the middle item, return True\n",
    "    * Base case #3: if search item is not the middle item and the search list length is 1, return False\n",
    "    * Recursive case #1: if search item is less than middle item, do a recursive call with the left side of search list\n",
    "    * Recursive case #2: if search item is greater than middle item, do a recursive call with the right side of search list \n",
    "    * Recursive call: simply return the results of the recursive call\n",
    "* Time Complexity: $O(log(N))$\n",
    "    * The number of comparisons you'll make is the number of times you split the list in half\n",
    "    * The most you can halve a list of size N is $ floor(log_2(N))$"
   ]
  },
  {
   "cell_type": "code",
   "execution_count": 17,
   "metadata": {},
   "outputs": [
    {
     "name": "stdout",
     "output_type": "stream",
     "text": [
      "True\n",
      "True\n",
      "True\n",
      "False\n"
     ]
    }
   ],
   "source": [
    "# Implement Binary Search\n",
    "\n",
    "def binarySearch(item, search_list):\n",
    "    if not search_list:\n",
    "        return False\n",
    "    middle = len(search_list) // 2\n",
    "    if item == search_list[middle]:\n",
    "        return True\n",
    "    elif len(search_list) <= 1:\n",
    "        return False\n",
    "    elif item < search_list[middle]:\n",
    "        return binarySearch(item, search_list[:middle-1])\n",
    "    elif item > search_list[middle]:\n",
    "        return binarySearch(item, search_list[middle:])\n",
    "            \n",
    "print(binarySearch(5, [1,2,3,4,5,7,8,9,10]))\n",
    "print(binarySearch(3, [1,2,3,4,5]))\n",
    "print(binarySearch(3, [1,2,3,4,]))\n",
    "\n",
    "print(binarySearch(7, [1,2,3,4,5]))"
   ]
  },
  {
   "cell_type": "code",
   "execution_count": null,
   "metadata": {},
   "outputs": [],
   "source": []
  }
 ],
 "metadata": {
  "kernelspec": {
   "display_name": "Python_Study",
   "language": "python",
   "name": "python3"
  },
  "language_info": {
   "codemirror_mode": {
    "name": "ipython",
    "version": 3
   },
   "file_extension": ".py",
   "mimetype": "text/x-python",
   "name": "python",
   "nbconvert_exporter": "python",
   "pygments_lexer": "ipython3",
   "version": "3.10.14"
  }
 },
 "nbformat": 4,
 "nbformat_minor": 2
}
