{
 "cells": [
  {
   "cell_type": "markdown",
   "id": "3804abe8",
   "metadata": {},
   "source": [
    "# Intersection of Two Arrays II\n",
    "\n",
    "Given two integer arrays nums1 and nums2, return an array of their intersection. Each element in the result must appear as many times as it shows in both arrays and you may return the result in any order.\n",
    "\n",
    "[Leetcode Problem Link](https://leetcode.com/problems/intersection-of-two-arrays-ii/description)\n",
    "\n",
    "### Example 1:\n",
    "\n",
    "Input: nums1 = [1,2,2,1], nums2 = [2,2]\n",
    "Output: [2,2]\n",
    "\n",
    "### Example 2: \n",
    "\n",
    "Input: nums1 = [4,9,5], nums2 = [9,4,9,8,4]\n",
    "Output: [4,9]\n",
    "Explanation: [9,4] is also accepted."
   ]
  },
  {
   "cell_type": "markdown",
   "id": "d1713c7c",
   "metadata": {},
   "source": [
    "## Approach 1: Sort Lists, then use Parallel Two Pointers\n",
    "\n",
    "Sorting both the list first helps us find each common element in roughly the same order as we transverse the list. We can then use a pointer in each list. If the number at both pointers is equal, we append that number to our answer and advance both pointers. Otherwise we advance the pointer at the lesser number. We do this until one of the pointers reaches the end of its list, then we return our answer.\n",
    "\n",
    "### Analysis\n",
    "* Time Complexity: O(Mlog(M) + Nlog(N))\n",
    "    * It takes O(Mlog(M)) to sort the longer list\n",
    "    * It takes O(Nlog(N)) to sort the shorter or other list\n",
    "    * traversing both lists take about O(M) time\n",
    "    * T(n) = Mlog(M) + M + Nlog(N) = O(Mlog(M) + Nlog(N))\n",
    "        * we can drop the M because it is a lesser term to Mlog(M)\n",
    "* Space complexity: O(M+N)\n",
    "    * we need to create two new lists to get the sorted versions\n",
    "\n"
   ]
  },
  {
   "cell_type": "code",
   "execution_count": null,
   "id": "b19c222e",
   "metadata": {},
   "outputs": [
    {
     "name": "stdout",
     "output_type": "stream",
     "text": [
      "[1, 1, 2]\n"
     ]
    }
   ],
   "source": [
    "from typing import List\n",
    "\n",
    "def intersect(nums1: List[int], nums2: List[int]) -> List[int]:\n",
    "    sort1 = sorted(nums1)\n",
    "    sort2 = sorted(nums2)\n",
    "    p1 = 0\n",
    "    p2 = 0\n",
    "    ans = []\n",
    "\n",
    "    while p1 < len(sort1) and p2 < len(sort2):\n",
    "        if sort1[p1] == sort2[p2]:\n",
    "            ans.append(sort1[p1])\n",
    "            p1 += 1\n",
    "            p2 += 1\n",
    "        elif sort1[p1] < sort2[p2]:\n",
    "            p1 += 1\n",
    "        elif sort2[p2] < sort1[p1]:\n",
    "            p2 += 1\n",
    "    return ans\n",
    "\n",
    "print(intersect([1,2,2,1,3], [2,1,1]))"
   ]
  },
  {
   "cell_type": "markdown",
   "id": "89764130",
   "metadata": {},
   "source": [
    "## Approach 2: Hash Map\n",
    "We can also use a hash map *counter* to track elements in the first list, and cross reference that with the second list. We will need to traverse the first list and increase the count for each number we encounter. Then, we traverse the second list. If a number is in *counter* and the count is greater than 0, we add that number to our answer and decrement the count in *counter*.\n",
    "\n",
    "### Analysis\n",
    "* Time Complexity: O(M+N)\n",
    "    * We need to traverse first list of length M\n",
    "    * We also need to traverse the second list of length N\n",
    "    * T(m,n) = M + N = O(M+N)\n",
    "* Space ComplexityL O(M)\n",
    "    * We just need to create a hash that at most will be the size of M\n",
    "    "
   ]
  },
  {
   "cell_type": "code",
   "execution_count": 5,
   "id": "c761c90d",
   "metadata": {},
   "outputs": [
    {
     "name": "stdout",
     "output_type": "stream",
     "text": [
      "[2, 1, 1]\n"
     ]
    }
   ],
   "source": [
    "from typing import List\n",
    "\n",
    "def intersect(nums1: List[int], nums2: List[int]) -> List[int]:\n",
    "    counts = {}\n",
    "    ans = []\n",
    "\n",
    "    for num in nums1:\n",
    "        if num in counts:\n",
    "            counts[num] += 1\n",
    "        else:\n",
    "            counts[num] = 1\n",
    "    for num in nums2:\n",
    "        if num in counts and counts[num] > 0:\n",
    "            ans.append(num)\n",
    "            counts[num] -= 1\n",
    "    return ans\n",
    "\n",
    "print(intersect([1,2,2,1,3], [2,1,1]))"
   ]
  }
 ],
 "metadata": {
  "kernelspec": {
   "display_name": "Python 3",
   "language": "python",
   "name": "python3"
  },
  "language_info": {
   "codemirror_mode": {
    "name": "ipython",
    "version": 3
   },
   "file_extension": ".py",
   "mimetype": "text/x-python",
   "name": "python",
   "nbconvert_exporter": "python",
   "pygments_lexer": "ipython3",
   "version": "3.10.0"
  }
 },
 "nbformat": 4,
 "nbformat_minor": 5
}
