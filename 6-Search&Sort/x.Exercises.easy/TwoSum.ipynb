{
 "cells": [
  {
   "cell_type": "markdown",
   "id": "f796d5e2",
   "metadata": {},
   "source": [
    "# Two Sum\n",
    "Given an array of integers nums and an integer target, return indices of the two numbers such that they add up to target.\n",
    "You may assume that each input would have exactly one solution, and you may not use the same element twice.\n",
    "You can return the answer in any order.\n",
    "[Leetcode Link](https://leetcode.com/problems/two-sum/description/)\n",
    "\n",
    "### Example 1:\n",
    "Input: nums = [2,7,11,15], target = 9\\\n",
    "Output: [0,1]\\\n",
    "Explanation: Because nums[0] + nums[1] == 9, we return [0, 1].\n",
    "\n",
    "### Example 2:\n",
    "Input: nums = [3,2,4], target = 6\\\n",
    "Output: [1,2]\n",
    "\n",
    "### Example 3:\n",
    "Input: nums = [3,3], target = 6\\\n",
    "Output: [0,1]"
   ]
  },
  {
   "cell_type": "markdown",
   "id": "8e3dcd66",
   "metadata": {},
   "source": [
    "## Approach 1: Brute Force\n",
    "We can simply go through each combination of numbers in the list, checking if their sum equals the target.\n",
    "\n",
    "### Analysis\n",
    "* Time Complexity: $O(n^2)$\n",
    "    * We can use double nested loops to check each element, and its sum with every element afterwards\n",
    "* Space Complexity: O(1)"
   ]
  },
  {
   "cell_type": "code",
   "execution_count": null,
   "id": "b731472e",
   "metadata": {},
   "outputs": [],
   "source": [
    "def twoSum(nums, target):\n",
    "    \"\"\"\n",
    "    :type nums: List[int]\n",
    "    :type target: int\n",
    "    :rtype: List[int]\n",
    "    \"\"\"\n",
    "    for i in  range(len(nums)-1):\n",
    "        for j in range(i+1,len(nums)):\n",
    "            if (nums[i]+nums[j] == target):\n",
    "                return [i,j]\n",
    "    return"
   ]
  },
  {
   "cell_type": "markdown",
   "id": "9fb1f914",
   "metadata": {},
   "source": [
    "## Approach 2: Hash Map\n",
    "Alternatively, we can use a hash map `hashmap` to help us reference previous elements rather than using a double loop. If an element e at index i is part of the answer, then we know further in the list we'll see an element equal to `target-e`. So, we can set `hashmap[target-e] = i`. Once we reach the element `target-e`, we simply reference the index stored in the hashmap and return it with the current index. \n",
    "\n",
    "### Analysis\n",
    "* Time Complexity: O(n)\n",
    "* Space Complexity: O(n)\n",
    "    * worst case scenario: the answer has indices at the beginning and end of list which requires iterating through the entire list"
   ]
  },
  {
   "cell_type": "code",
   "execution_count": null,
   "id": "d559de63",
   "metadata": {},
   "outputs": [],
   "source": [
    "from typing import List\n",
    "\n",
    "\n",
    "def twoSum(nums: List[int], target: int) -> List[int]:\n",
    "    hashmap = {}\n",
    "\n",
    "    for i in range(len(nums)):\n",
    "        if nums[i] in hashmap:\n",
    "            return [hashmap[nums[i]], i]\n",
    "        match = target-nums[i]\n",
    "        hashmap[match] = i "
   ]
  }
 ],
 "metadata": {
  "language_info": {
   "name": "python"
  }
 },
 "nbformat": 4,
 "nbformat_minor": 5
}
