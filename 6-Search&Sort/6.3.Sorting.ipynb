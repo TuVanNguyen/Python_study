{
 "cells": [
  {
   "cell_type": "markdown",
   "metadata": {},
   "source": [
    "# Sorting\n",
    "\n",
    "\n",
    "## Bubble Sort\n",
    "* makes multiple passes through list\n",
    "* it compares adjacent items and compares the ones out of order\n",
    "* called bubble sort because the largest numbers \"bubble\" to the end of the list with each pass\n",
    "\n",
    "### Analysis of Bubble Sort\n",
    "* Time complexity: $O(n^2)$\n",
    "    * it needs to make N-1 passes to make sure all items are sorted\n",
    "    * the number of comparisons made in the first pass is N-1, but the number of comparisons decrements by 1 until we have just 1 comparison at the last pass\n",
    "    * So, the time complexity is an arithmetic sequence. The below calculations show that it is $O(n^2)$\n",
    "$$\n",
    "T(n) = \\sum_{i=1}^{n-1}i = \\frac{(n-1)(n-1+1)}{2} = \\frac{1}{2}n^2 - \\frac{1}{2}n \\\\\n",
    "O(n^2)\n",
    "$$\n",
    "\n",
    "* Bubble Sort is relatively inefficient, especially because it makes multiple exchanges for knowing what the final location of the item will be"
   ]
  },
  {
   "cell_type": "code",
   "execution_count": 2,
   "metadata": {},
   "outputs": [
    {
     "name": "stdout",
     "output_type": "stream",
     "text": [
      "[1, 2, 3, 45]\n"
     ]
    }
   ],
   "source": [
    "def bubbleSort(alist: list[int]):\n",
    "    for i in range(len(alist), 0, -1):\n",
    "        for j in range(1,i):\n",
    "            if alist[j] < alist[j-1]:\n",
    "                temp = alist[j]\n",
    "                alist[j] = alist[j-1]\n",
    "                alist[j-1] = temp\n",
    "    return alist\n",
    "\n",
    "print(bubbleSort([2,1,45,3]))\n"
   ]
  },
  {
   "cell_type": "markdown",
   "metadata": {},
   "source": [
    "# Selection Sort\n",
    "* makes (n-1) passes over an list of size N\n",
    "* on each pass i, it searches the sublist alist[:-i] and finds the largest number and puts it at alist[-i]\n",
    "\n",
    "## Analysis\n",
    "* Time Complexity: $O(n^2)$\n",
    "    * The number of searches it does as it iterates over each item in the list can be written as an arithmetic sequence\n",
    "$$\n",
    "T(n) = \\sum_{i=1}^{n-1}i = \\frac{(n-1)(n-1+1)}{2} = \\frac{1}{2}n^2 - \\frac{1}{2}n \\\\\n",
    "O(n^2)\n",
    "$$"
   ]
  },
  {
   "cell_type": "code",
   "execution_count": 10,
   "metadata": {},
   "outputs": [
    {
     "name": "stdout",
     "output_type": "stream",
     "text": [
      "[1, 2, 3, 4, 5]\n"
     ]
    }
   ],
   "source": [
    "def selectionSort(alist: list[int]):\n",
    "    for i in range(len(alist)-1,0,-1):\n",
    "        greatest = i\n",
    "        for j in range(i+1): \n",
    "            if alist[j] > alist[greatest]:\n",
    "                greatest = j\n",
    "        temp = alist[i]\n",
    "        alist[i] = alist[greatest]\n",
    "        alist[greatest] = temp\n",
    "    return alist\n",
    "\n",
    "print(selectionSort([5,2,1,4,3]))"
   ]
  },
  {
   "cell_type": "markdown",
   "metadata": {},
   "source": [
    "# Insertion Sort\n",
    "* makes N-1 passes\n",
    "* On each pass i, it only looks at sublist alist[:i+1]\n",
    "* In the sublist, it finds the position pos that alist[i] should be in the sublist\n",
    "* after finding the pos, it shifts every to the right of that position one up, then inserts alist[i] at pos\n",
    "\n",
    "## Analysis\n",
    "* Time Complexity: $O(n^2)$\n",
    "    * The number of searches it does as it iterates over each item in the list can be written as an arithmetic sequence\n",
    "$$\n",
    "T(n) = \\sum_{i=1}^{n-1}i = \\frac{(n-1)(n-1+1)}{2} = \\frac{1}{2}n^2 - \\frac{1}{2}n \\\\\n",
    "O(n^2)\n",
    "$$"
   ]
  },
  {
   "cell_type": "code",
   "execution_count": 49,
   "metadata": {},
   "outputs": [
    {
     "name": "stdout",
     "output_type": "stream",
     "text": [
      "[17, 20, 26, 31, 44, 54, 55, 77, 93]\n"
     ]
    }
   ],
   "source": [
    "def insertionSort(alist: list[int]):\n",
    "    for end in range(1,len(alist)):\n",
    "        for pos in range(end):\n",
    "            if alist[end] < alist[pos]:\n",
    "                alist = alist[:pos] + [alist[end]] + alist[pos:end] + alist[end+1:]\n",
    "                break\n",
    "    return alist\n",
    "\n",
    "print(insertionSort([54,26,93,17,77,31,44,55,20]))"
   ]
  },
  {
   "cell_type": "markdown",
   "metadata": {},
   "source": [
    "## Shell Sort\n",
    "1. for each iteration, it creates partitions of the list starting with gap=$\\frac{n}{2}$. The partitions are a list of positions that are a gap apart.\n",
    "    * e.g [4,5,1,6,2,7,3] -> i=3: [4,6,3],[5,2],[1,7]\n",
    "1. it then sorts only the items within the same partition, using insertion sort\n",
    "    * e.g [4,6,3],[5,2],[1,7] -> [3,4,6],[2,5],[1,7]\n",
    "1. When sorting within the partition, we are actually sorting on the original list by switching the positions of items in the sublist. So the list would actually end up like below\n",
    "    e.g [3,4,6],[2,5],[1,7] -> [3,2,1,4,5,7,6]\n",
    "1. On the next pass, i=$\\frac{n}{4}$. We keep halving i until i=1. At that point, we just do a simple insertion sort for one pass\n",
    "    * [3,2,1,4,5,7,6] -> i = 1\n",
    "    * [3,2,1,4,5,6,7]\n",
    "    * [1,2,3,4,5,6,7]\n",
    "\n",
    "\n",
    "# Analysis\n",
    "* Time Complexity: \n",
    "    * Best Case: $O(nlogn)$ ; applies when list is mostly sorted already\n",
    "        * Recursion depth is about $log_2(n)$ because in the shellSort() while loop, we are halving \"gap\" which halves the number of iterations to reach our end condition\n",
    "        * In shellSorter, the least amount of iterations we could do is a factor of n\n",
    "            * if we skip the while loop, we still have to iterate over the for loop\n",
    "            * the for loop has a factor of n iterations because if gap=1 and start=0, you're iterating over each item in the list\n",
    "            * any other values for gap and start is still some factor of n\n",
    "                * gap > 1 just means you're dividing the number of iterations you have to do, start>0 is subtracting the number of iterations\n",
    "    * Average Case: ~$O(n^{3/2})$ (Or more loosely somewhere between $O(n)$ and $O(n^2)$)\n",
    "        * The $O(n^{3/2})$ is derived from a distribution of computations, not necessary to derive mathematically\n",
    "    * Worst Case: O(n^2) ;if at the end, we still need to sort all the elements as the shell sorts make little to no progress e.g in a reverse sorted list\n",
    "        * in shellSorter if we have to go through all the items in the sublists in the while loop, that combined with the for loop becomes an arithmetic sequence which is $O(n^2)$\n",
    "* Space Complexity: O(1)\n",
    "  * no new arrays created because all changes are done directly to array"
   ]
  },
  {
   "cell_type": "code",
   "execution_count": 1,
   "metadata": {},
   "outputs": [
    {
     "name": "stdout",
     "output_type": "stream",
     "text": [
      "[17, 20, 26, 31, 44, 54, 55, 77, 93]\n"
     ]
    }
   ],
   "source": [
    "## Implementation Shell Sort\n",
    "def shellSorter(alist: list[int], start: int, gap: int):\n",
    "    for pos in range(start+gap,len(alist), gap):\n",
    "        max_item_index = pos\n",
    "        while max_item_index >= gap and alist[max_item_index] < alist[max_item_index-gap]:\n",
    "            temp = alist[max_item_index]\n",
    "            alist[max_item_index] = alist[max_item_index-gap]\n",
    "            alist[max_item_index-gap] = temp\n",
    "            max_item_index = max_item_index-gap\n",
    "    return alist\n",
    "\n",
    "def shellSort(alist: list[int]):\n",
    "    gap = len(alist)//2\n",
    "    while gap > 0:\n",
    "        for start in range(gap):\n",
    "            shellSorter(alist, start, gap)\n",
    "        gap = gap//2\n",
    "    return alist\n",
    "\n",
    "print(shellSort([54,26,93,17,77,31,44,55,20]))\n",
    "\n",
    "        \n",
    "\n",
    "    \n",
    "\n",
    "    "
   ]
  },
  {
   "cell_type": "markdown",
   "metadata": {},
   "source": [
    "## Merge Sort\n",
    "* uses recursion to sort list \n",
    "* base case: len(alist)=N=1, return alist\n",
    "* recursive case: len(alist)=N>1, split the list in half before feeding it back into recursive call\n",
    "* recursive call:  a,b = mergeSort(alist[:N/2]), mergeSort(alist[N/2:]) \n",
    "    * after doing the recursion call, you still need to sort a and b\n",
    "    * you can do that with a modified select sort: simply iterate over b until you find a element greater than a[0]. Then insert a[0] into a before that position (merging them)\n",
    "    * we merge a into b because b is typically the bigger sublist\n",
    "    * keep doing the above until you exhausted all elements in b \n",
    "\n",
    "### Analysis\n",
    "* Time Complexity: $O(nlog(n))$\n",
    "    * Each time you're doing a recursive call, you are halving the list \n",
    "    * meaning the height of the recursion stack ends up being i=$log_2(n)$\n",
    "    * and at each layer of the stack, you sort N objects total across all the sublists\n",
    "    * therefore, the total number of sorting you do is $O(nlog(n))$    \n",
    "* Space Complexity: O(nlogn)\n",
    "    * we are creating a new list length n everytime we start a new stack in a recursion stack that is log(n) deep "
   ]
  },
  {
   "cell_type": "code",
   "execution_count": 35,
   "metadata": {},
   "outputs": [
    {
     "name": "stdout",
     "output_type": "stream",
     "text": [
      "[54, 26, 93, 17, 77, 31, 44, 55, 20] 4\n",
      "None\n"
     ]
    }
   ],
   "source": [
    "# Implementation of merge sort (not space efficient, but simple to remember)\n",
    "\n",
    "def mergeSort(alist):\n",
    "    if len(alist) <= 1:\n",
    "        return alist\n",
    "    midpoint = len(alist)//2\n",
    "    left,right = mergeSort(alist[:midpoint]), mergeSort(alist[midpoint:])\n",
    "    newlist = []\n",
    "    while left and right:\n",
    "        if left[0] <= right[0]:\n",
    "            newlist.append(left.pop(0))\n",
    "        else:\n",
    "            newlist.append(right.pop(0))\n",
    "    return newlist + left + right\n",
    "\n",
    "\n",
    "print(mergeSort([54,26,93,17,77,31,44,55,20]))\n"
   ]
  },
  {
   "cell_type": "code",
   "execution_count": 42,
   "metadata": {},
   "outputs": [
    {
     "ename": "UnboundLocalError",
     "evalue": "local variable 'leftindex' referenced before assignment",
     "output_type": "error",
     "traceback": [
      "\u001b[0;31m---------------------------------------------------------------------------\u001b[0m",
      "\u001b[0;31mUnboundLocalError\u001b[0m                         Traceback (most recent call last)",
      "Cell \u001b[0;32mIn[42], line 22\u001b[0m\n\u001b[1;32m     18\u001b[0m             rightindex \u001b[38;5;241m+\u001b[39m\u001b[38;5;241m=\u001b[39m \u001b[38;5;241m1\u001b[39m\n\u001b[1;32m     19\u001b[0m     \u001b[38;5;28;01mreturn\u001b[39;00m alist\n\u001b[0;32m---> 22\u001b[0m \u001b[38;5;28mprint\u001b[39m(\u001b[43mmergeSort\u001b[49m\u001b[43m(\u001b[49m\u001b[43m[\u001b[49m\u001b[38;5;241;43m54\u001b[39;49m\u001b[43m,\u001b[49m\u001b[38;5;241;43m26\u001b[39;49m\u001b[43m,\u001b[49m\u001b[38;5;241;43m93\u001b[39;49m\u001b[43m,\u001b[49m\u001b[38;5;241;43m17\u001b[39;49m\u001b[43m,\u001b[49m\u001b[38;5;241;43m77\u001b[39;49m\u001b[43m,\u001b[49m\u001b[38;5;241;43m31\u001b[39;49m\u001b[43m,\u001b[49m\u001b[38;5;241;43m44\u001b[39;49m\u001b[43m,\u001b[49m\u001b[38;5;241;43m55\u001b[39;49m\u001b[43m,\u001b[49m\u001b[38;5;241;43m20\u001b[39;49m\u001b[43m]\u001b[49m\u001b[43m)\u001b[49m)\n",
      "Cell \u001b[0;32mIn[42], line 8\u001b[0m, in \u001b[0;36mmergeSort\u001b[0;34m(alist)\u001b[0m\n\u001b[1;32m      5\u001b[0m midpoint \u001b[38;5;241m=\u001b[39m \u001b[38;5;28mlen\u001b[39m(alist)\u001b[38;5;241m/\u001b[39m\u001b[38;5;241m/\u001b[39m\u001b[38;5;241m2\u001b[39m\n\u001b[1;32m      6\u001b[0m left,right \u001b[38;5;241m=\u001b[39m alist[:midpoint], alist[midpoint:]\n\u001b[0;32m----> 8\u001b[0m \u001b[43mmergeSort\u001b[49m\u001b[43m(\u001b[49m\u001b[43malist\u001b[49m\u001b[43m[\u001b[49m\u001b[43m:\u001b[49m\u001b[43mmidpoint\u001b[49m\u001b[43m]\u001b[49m\u001b[43m)\u001b[49m\n\u001b[1;32m      9\u001b[0m mergeSort(right)\n\u001b[1;32m     11\u001b[0m rightindex \u001b[38;5;241m=\u001b[39m midpoint\n",
      "Cell \u001b[0;32mIn[42], line 8\u001b[0m, in \u001b[0;36mmergeSort\u001b[0;34m(alist)\u001b[0m\n\u001b[1;32m      5\u001b[0m midpoint \u001b[38;5;241m=\u001b[39m \u001b[38;5;28mlen\u001b[39m(alist)\u001b[38;5;241m/\u001b[39m\u001b[38;5;241m/\u001b[39m\u001b[38;5;241m2\u001b[39m\n\u001b[1;32m      6\u001b[0m left,right \u001b[38;5;241m=\u001b[39m alist[:midpoint], alist[midpoint:]\n\u001b[0;32m----> 8\u001b[0m \u001b[43mmergeSort\u001b[49m\u001b[43m(\u001b[49m\u001b[43malist\u001b[49m\u001b[43m[\u001b[49m\u001b[43m:\u001b[49m\u001b[43mmidpoint\u001b[49m\u001b[43m]\u001b[49m\u001b[43m)\u001b[49m\n\u001b[1;32m      9\u001b[0m mergeSort(right)\n\u001b[1;32m     11\u001b[0m rightindex \u001b[38;5;241m=\u001b[39m midpoint\n",
      "Cell \u001b[0;32mIn[42], line 14\u001b[0m, in \u001b[0;36mmergeSort\u001b[0;34m(alist)\u001b[0m\n\u001b[1;32m     12\u001b[0m \u001b[38;5;28;01mfor\u001b[39;00m pos \u001b[38;5;129;01min\u001b[39;00m \u001b[38;5;28mrange\u001b[39m(\u001b[38;5;28mlen\u001b[39m(alist)):\n\u001b[1;32m     13\u001b[0m     \u001b[38;5;28;01mif\u001b[39;00m (rightindex \u001b[38;5;241m>\u001b[39m\u001b[38;5;241m=\u001b[39m \u001b[38;5;28mlen\u001b[39m(right)) \u001b[38;5;129;01mor\u001b[39;00m (leftindex \u001b[38;5;241m<\u001b[39m \u001b[38;5;28mlen\u001b[39m(left) \u001b[38;5;129;01mand\u001b[39;00m left[leftindex] \u001b[38;5;241m<\u001b[39m\u001b[38;5;241m=\u001b[39m right[rightindex]):\n\u001b[0;32m---> 14\u001b[0m         alist[pos] \u001b[38;5;241m=\u001b[39m left[\u001b[43mleftindex\u001b[49m]\n\u001b[1;32m     15\u001b[0m         leftindex \u001b[38;5;241m+\u001b[39m\u001b[38;5;241m=\u001b[39m \u001b[38;5;241m1\u001b[39m\n\u001b[1;32m     16\u001b[0m     \u001b[38;5;28;01melse\u001b[39;00m:\n",
      "\u001b[0;31mUnboundLocalError\u001b[0m: local variable 'leftindex' referenced before assignment"
     ]
    }
   ],
   "source": [
    "# implementation of space efficient mergesort\n",
    "def mergeSort(alist):\n",
    "    if len(alist) <= 1:\n",
    "        return alist\n",
    "    midpoint = len(alist)//2\n",
    "    left,right = alist[:midpoint], alist[midpoint:]\n",
    "\n",
    "    mergeSort(alist[:midpoint])\n",
    "    mergeSort(right)\n",
    "    \n",
    "    rightindex = midpoint\n",
    "    for pos in range(len(alist)):\n",
    "        if (rightindex >= len(right)) or (leftindex < len(left) and left[leftindex] <= right[rightindex]):\n",
    "            alist[pos] = left[leftindex]\n",
    "            leftindex += 1\n",
    "        else:\n",
    "            alist[pos] = right[rightindex]\n",
    "            rightindex += 1\n",
    "    return alist\n",
    "\n",
    "\n",
    "print(mergeSort([54,26,93,17,77,31,44,55,20]))"
   ]
  },
  {
   "cell_type": "markdown",
   "metadata": {},
   "source": []
  },
  {
   "cell_type": "markdown",
   "metadata": {},
   "source": [
    "## Quick Sort\n",
    "* also a divide and conquer technique similar to merge sort\n",
    "* doesn't use additional storage because instead of splitting lists, we'll be using pivot points\n",
    "* The pivot point will start at pivot=0 for list `alist` of length n\n",
    "* we have a leftmark that starts at i_left=i+1, and rightmark that starts at i_right=n-1\n",
    "* i_left increases until alist[i_left] > alist[pivot], and i_right decreases until  alist[i_right] < alist[pivot] \n",
    "    * when both are true, switch alist[i_left] and alist[i_right]\n",
    "* keep going until i_right < i_left. At that point i_right is the split point.\n",
    "* if alist[pivot] > alist[i_right], switch them (when i_right=split_point)\n",
    "* two sublists are created: alist[:i_right], alist(i_right:)\n",
    "    * alist[:i_right] contains all values less than alist[pivot]\n",
    "    * alist[i_left:] contains all values greater than alist[pivot]\n",
    "* then you recursively call quickSort on the two sublists\n",
    "    * base case: start <= end, return alist without sorting\n",
    "        * applies when list has 1 or less items\n",
    "        * also applies when a sublist we're quicksorting has 1 or less items (end recursive call)\n",
    "    * recursive case: when the sublists after 1 round of quicksort has length greater than 1\n",
    "    * recursive call:\n",
    "        * quickSort(alist, start, rightmark-1)\n",
    "        * quickSort(alist, leftmark, end)\n",
    "\n",
    "### Analysis\n",
    "* Time Complexity: variable\n",
    "    * Best case: O(nlogn)\n",
    "        * if the partition is always in the middle, the list gets roughly divided in half on each pass\n",
    "        * so the recursion stack is $log_2(n)$ deep\n",
    "        * and on each layer, you make n comparisons\n",
    "        * so O(n*log(n))\n",
    "    * Worst case: $O(n^2)$\n",
    "        * the partition gets split towards the end or beginning of the list i.e in sorted or reverse sorted arrays\n",
    "        * so the recursion stach is more-or-less n deep\n",
    "        * and on each layer you make n comparisons\n",
    "        * so O(n^2)\n",
    "* Space Complexity:\n",
    "    * Average Case: O(log(n))\n",
    "        * each time we call quickSort recursively, we are dividing the list at the pivot point\n",
    "        * assuming that on average the list and sublists will be divided roughly in half, that means the recursion depth is O(logn)\n",
    "    * Worst Case: O(n)\n",
    "        * the recursion depth is n for the worst case partitioning scenario: the pivot point repeatedly gets assigned to the beginning or end of list\n",
    "        \n",
    "\n"
   ]
  },
  {
   "cell_type": "code",
   "execution_count": 13,
   "metadata": {},
   "outputs": [
    {
     "name": "stdout",
     "output_type": "stream",
     "text": [
      "0 8\n",
      "0 4\n",
      "0 2\n",
      "1 2\n",
      "3 4\n",
      "5 8\n",
      "6 8\n",
      "[17, 20, 26, 31, 44, 54, 55, 77, 93]\n"
     ]
    }
   ],
   "source": [
    "def quickSort(alist: list[int], start = 0, end = None):\n",
    "    if end is None:\n",
    "        end = len(alist)-1\n",
    "    if start >= end:\n",
    "        return alist\n",
    "\n",
    "    pivot = start\n",
    "    leftmark = pivot+1\n",
    "    rightmark = end\n",
    "\n",
    "    while rightmark > leftmark:\n",
    "        if alist[rightmark] < alist[pivot] and alist[leftmark] > alist[pivot]:\n",
    "            temp = alist[rightmark]\n",
    "            alist[rightmark] = alist[leftmark]\n",
    "            alist[leftmark] = temp\n",
    "        if alist[rightmark] >= alist[pivot]:\n",
    "            rightmark -= 1\n",
    "        if alist[leftmark] <= alist[pivot]:\n",
    "            leftmark += 1\n",
    "\n",
    "    if alist[rightmark] < alist[pivot]:\n",
    "        temp = alist[rightmark]\n",
    "        alist[rightmark] = alist[pivot]\n",
    "        alist[pivot] = temp\n",
    "    \n",
    "    quickSort(alist, start, rightmark-1)\n",
    "    quickSort(alist, leftmark, end)\n",
    "    return alist\n",
    "\n",
    "print(quickSort([54,26,93,17,77,31,44,55,20]))\n"
   ]
  }
 ],
 "metadata": {
  "kernelspec": {
   "display_name": "Python_Study",
   "language": "python",
   "name": "python3"
  },
  "language_info": {
   "codemirror_mode": {
    "name": "ipython",
    "version": 3
   },
   "file_extension": ".py",
   "mimetype": "text/x-python",
   "name": "python",
   "nbconvert_exporter": "python",
   "pygments_lexer": "ipython3",
   "version": "3.10.14"
  }
 },
 "nbformat": 4,
 "nbformat_minor": 2
}
