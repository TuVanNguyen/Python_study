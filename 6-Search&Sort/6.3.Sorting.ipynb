{
 "cells": [
  {
   "cell_type": "markdown",
   "metadata": {},
   "source": [
    "# Sorting\n",
    "\n",
    "\n",
    "## Bubble Sort\n",
    "* makes multiple passes through list\n",
    "* it compares adjacent items and compares the ones out of order\n",
    "* called bubble sort because the largest numbers \"bubble\" to the end of the list with each pass\n",
    "\n",
    "### Analysis of Bubble Sort\n",
    "* Time complexity: $O(n^2)$\n",
    "    * it needs to make N-1 passes to make sure all items are sorted\n",
    "    * the number of comparisons made in the first pass is N-1, but the number of comparisons decrements by 1 until we have just 1 comparison at the last pass\n",
    "    * So, the time complexity is an arithmetic sequence. The below calculations show that it is $O(n^2)$\n",
    "$$\n",
    "T(n) = \\sum_{i=1}^{n-1}i = \\frac{(n-1)(n-1+1)}{2} = \\frac{1}{2}n^2 - \\frac{1}{2}n \\\\\n",
    "O(n^2)\n",
    "$$\n",
    "\n",
    "* Bubble Sort is relatively inefficient, especially because it makes multiple exchanges for knowing what the final location of the item will be"
   ]
  },
  {
   "cell_type": "code",
   "execution_count": 2,
   "metadata": {},
   "outputs": [
    {
     "name": "stdout",
     "output_type": "stream",
     "text": [
      "[1, 2, 3, 45]\n"
     ]
    }
   ],
   "source": [
    "def bubbleSort(alist: list[int]):\n",
    "    for i in range(len(alist), 0, -1):\n",
    "        for j in range(1,i):\n",
    "            if alist[j] < alist[j-1]:\n",
    "                temp = alist[j]\n",
    "                alist[j] = alist[j-1]\n",
    "                alist[j-1] = temp\n",
    "    return alist\n",
    "\n",
    "print(bubbleSort([2,1,45,3]))\n"
   ]
  },
  {
   "cell_type": "markdown",
   "metadata": {},
   "source": [
    "# Selection Sort\n",
    "* makes (n-1) passes over an list of size N\n",
    "* on each pass i, it searches the sublist alist[:-i] and finds the largest number and puts it at alist[-i]\n",
    "\n",
    "## Analysis\n",
    "* Time Complexity: $O(n^2)$\n",
    "    * The number of searches it does as it iterates over each item in the list can be written as an arithmetic sequence\n",
    "$$\n",
    "T(n) = \\sum_{i=1}^{n-1}i = \\frac{(n-1)(n-1+1)}{2} = \\frac{1}{2}n^2 - \\frac{1}{2}n \\\\\n",
    "O(n^2)\n",
    "$$"
   ]
  },
  {
   "cell_type": "code",
   "execution_count": 10,
   "metadata": {},
   "outputs": [
    {
     "name": "stdout",
     "output_type": "stream",
     "text": [
      "[1, 2, 3, 4, 5]\n"
     ]
    }
   ],
   "source": [
    "def selectionSort(alist: list[int]):\n",
    "    for i in range(len(alist)-1,0,-1):\n",
    "        greatest = i\n",
    "        for j in range(i+1): \n",
    "            if alist[j] > alist[greatest]:\n",
    "                greatest = j\n",
    "        temp = alist[i]\n",
    "        alist[i] = alist[greatest]\n",
    "        alist[greatest] = temp\n",
    "    return alist\n",
    "\n",
    "print(selectionSort([5,2,1,4,3]))"
   ]
  },
  {
   "cell_type": "markdown",
   "metadata": {},
   "source": [
    "# Insertion Sort\n",
    "* makes N-1 passes\n",
    "* On each pass i, it only looks at sublist alist[:i+1]\n",
    "* In the sublist, it finds the position pos that alist[i] should be in the sublist\n",
    "* after finding the pos, it shifts every to the right of that position one up, then inserts alist[i] at pos\n",
    "\n",
    "## Analysis\n",
    "* Time Complexity: $O(n^2)$\n",
    "    * The number of searches it does as it iterates over each item in the list can be written as an arithmetic sequence\n",
    "$$\n",
    "T(n) = \\sum_{i=1}^{n-1}i = \\frac{(n-1)(n-1+1)}{2} = \\frac{1}{2}n^2 - \\frac{1}{2}n \\\\\n",
    "O(n^2)\n",
    "$$"
   ]
  },
  {
   "cell_type": "code",
   "execution_count": 44,
   "metadata": {},
   "outputs": [
    {
     "name": "stdout",
     "output_type": "stream",
     "text": [
      "[2, 1] 1 0\n",
      "[1, 2, 6] 2 0\n",
      "[1, 2, 6] 2 1\n",
      "[1, 2, 6, 4] 3 0\n",
      "[1, 2, 6, 4] 3 1\n",
      "[1, 2, 6, 4] 3 2\n",
      "[1, 2, 4, 6, 6] 4 0\n",
      "[1, 2, 4, 6, 6] 4 1\n",
      "[1, 2, 4, 6, 6] 4 2\n",
      "[1, 2, 4, 6, 6] 4 3\n",
      "[1, 2, 4, 6, 6, 5] 5 0\n",
      "[1, 2, 4, 6, 6, 5] 5 1\n",
      "[1, 2, 4, 6, 6, 5] 5 2\n",
      "[1, 2, 4, 6, 6, 5] 5 3\n",
      "[1, 2, 4, 5, 6, 6]\n"
     ]
    }
   ],
   "source": [
    "def insertionSort(alist: list[int]):\n",
    "    for i in range(1,len(alist)):\n",
    "        for j in range(i):\n",
    "            if alist[i] < alist[j]:\n",
    "                alist = alist[:j] + [alist[i]] + alist[j:i] + alist[i+1:]\n",
    "                break\n",
    "    return alist\n",
    "\n",
    "print(insertionSort([2,1,6,4,6,5]))"
   ]
  }
 ],
 "metadata": {
  "kernelspec": {
   "display_name": "Python_Study",
   "language": "python",
   "name": "python3"
  },
  "language_info": {
   "codemirror_mode": {
    "name": "ipython",
    "version": 3
   },
   "file_extension": ".py",
   "mimetype": "text/x-python",
   "name": "python",
   "nbconvert_exporter": "python",
   "pygments_lexer": "ipython3",
   "version": "3.10.14"
  }
 },
 "nbformat": 4,
 "nbformat_minor": 2
}
