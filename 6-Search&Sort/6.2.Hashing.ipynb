{
 "cells": [
  {
   "cell_type": "markdown",
   "metadata": {},
   "source": [
    "# Hashing\n",
    "* Instead of using searching algorithms that are O(n) or O(log(n)), we can store data in a data structure that can be searched in O(1)\n",
    "* This data structure is a **hash table**\n",
    "* a **hash function** maps items to a specific **slot** in the hash table\n",
    "    * **perfect hash functions** maps all items to a unique slot\n",
    "* **load factor**: ratio of num_items:table_size\n",
    "* **collisions**: when multiple items get assigned to the same slot by hash function\n",
    "\n",
    "## Hash Functions\n",
    "* Unfortunately, there's no systematic way to construct a perfect hash function (though perfect hashing is typically not needed)\n",
    "* One way to always have a perfect hash function is to increase hash table to be able to accomodate all possible values in item range\n",
    "    * Not possible when there're tons of possible values e.g storing all possible social security number requires $size=10^9$\n",
    "* **Goal**: create hash function that minimizes number of collisions, easy to compute, evenly distributes items in hash table\n",
    "\n",
    "## Common Hash Functions\n",
    "\n",
    "### Remainder Function\n",
    "* one of the simplist, most typical hashing function\n",
    "* simply assign the slot to be the remainder of the value\n",
    "$$\n",
    "h(item) = item \\% c \\\\\n",
    "c = tableSize (typically)\n",
    "$$\n",
    "\n",
    "\n",
    "### Folding Method\n",
    "* expands on the remainder function\n",
    "* Steps:\n",
    "    1. split the value into equal-sized segments (last piece may be smaller) e.g 123-456-7890 -> [12,34,56,78,90], segment_size = 2\n",
    "    2. Add up the segments to get has value e.g 12+34+78+90 = 270\n",
    "    3. Take the remainder of the value, based on the table size\n"
   ]
  },
  {
   "cell_type": "code",
   "execution_count": 5,
   "metadata": {},
   "outputs": [
    {
     "name": "stdout",
     "output_type": "stream",
     "text": [
      "2\n"
     ]
    }
   ],
   "source": [
    "# Hash Folding\n",
    "\n",
    "def foldingHash(item, table_size):\n",
    "    \"\"\"\n",
    "    Comes up with a hash value for social security numbers in a table of certain size\n",
    "    Args:\n",
    "        item: (str) social security number\n",
    "        table_size: (int) number of slots\n",
    "    Returns:\n",
    "        (int): index in table to store item\n",
    "    \"\"\"\n",
    "    item = \"\".join(item.split('-'))\n",
    "    segment_len = 2\n",
    "    segments = [int(item[i:i+segment_len]) for i in range(0,len(item),segment_len)]\n",
    "    segment_sum = sum(segments)\n",
    "    return segment_sum % table_size\n",
    "\n",
    "print(foldingHash('123-45-6789', 11))"
   ]
  },
  {
   "cell_type": "markdown",
   "metadata": {},
   "source": [
    "### Mid-Square Method\n",
    "* another method that expands on the remainder function\n",
    "\n",
    "* Steps:\n",
    "    1. Square the value e.g for value 44, $44^2 = 1936$\n",
    "    2. Extract the middle of the squared value e.g 1936 -> 93\n",
    "    3. Take the remainder of the table size e.g 93%11 = 5 "
   ]
  },
  {
   "cell_type": "code",
   "execution_count": 25,
   "metadata": {},
   "outputs": [
    {
     "name": "stdout",
     "output_type": "stream",
     "text": [
      "True\n",
      "True\n",
      "True\n",
      "True\n",
      "True\n",
      "True\n"
     ]
    }
   ],
   "source": [
    "# Hash Midsquare\n",
    "\n",
    "def midSquareHash(item, table_size):\n",
    "    \"\"\"\n",
    "    Create hash value for item using the mid-square method\n",
    "    Args:\n",
    "        item: (int)\n",
    "        table_size: (int) size of table\n",
    "    Return:\n",
    "        (int): hash value\n",
    "    \"\"\"\n",
    "    square = str(int(item)**2)\n",
    "    mid_point = len(square) // 2\n",
    "    mid_square = square[mid_point-1:mid_point+1] if len(square)%2 == 0 else square[mid_point]\n",
    "    hash_value = int(mid_square)%table_size\n",
    "    return hash_value\n",
    "\n",
    "print(midSquareHash(54,11) == 3)\n",
    "print(midSquareHash(26,11) == 7)\n",
    "print(midSquareHash(93,11) == 9)\n",
    "print(midSquareHash(17,11) == 8)\n",
    "print(midSquareHash(77,11) == 4)\n",
    "print(midSquareHash(31,11) == 6)\n"
   ]
  },
  {
   "cell_type": "markdown",
   "metadata": {},
   "source": [
    "## Using Ordinal Values To Hash Strings\n",
    "* Steps\n",
    "    1. take ordinal value of each character in the string\n",
    "    1. sum them up\n",
    "    1. return the remainder of the table size \n",
    "* Extra Step to avoid collisions with anagrams: weight each char by adding its index to the ordinal value before summing them"
   ]
  },
  {
   "cell_type": "code",
   "execution_count": 33,
   "metadata": {},
   "outputs": [
    {
     "name": "stdout",
     "output_type": "stream",
     "text": [
      "True\n"
     ]
    }
   ],
   "source": [
    "# Hasing Strings with Ordinal Values\n",
    "\n",
    "def hashStrings(item, table_size):\n",
    "    \"\"\"\n",
    "    Creates a hash value for a string\n",
    "    Args:\n",
    "        item: (str) item to hash\n",
    "        table_size: (int) size of table\n",
    "    Return:\n",
    "        (int): hash value\n",
    "    \"\"\"\n",
    "    ord_list = [ord(item[i])+i for i in range(len(item))]\n",
    "    return sum(ord_list) % table_size\n",
    "\n",
    "print(hashStrings(\"cat\", 11) == 7)\n"
   ]
  },
  {
   "cell_type": "markdown",
   "metadata": {},
   "source": [
    "## Collision Resolution (Rehashing)\n",
    "* Reassigning an item to another slot if the slot in the assigned hash value is occupied\n",
    "\n",
    "### Methods for Collision Resolution\n",
    "* Open Addressing: try to find next open slot in hash table\n",
    "    * Linear probing: increment hash value by 1 until there's a empty slot\n",
    "        * rehash(pos) = (pos+1)%table_size\n",
    "        * drawback: tends to cause clustering, leaving large sections of the table empty if collisions tend to happen at a specific hash value\n",
    "    * Linear probing with skips: increment hash value by a constant greater than 1\n",
    "        * \"plus 3 probe\": rehash(pos) = (pos+3)%table_size\n",
    "        * resolves clustering issue in linear probing\n",
    "        * table size should be prime number to ensure that all slots in table will be visited when doing linear probe with skips\n",
    "    * Quadratic probing: increment hash value by successive perfect squares i.e (1,4,9,16...)\n",
    "        * $rehash(pos) = (pos+i^2)$\n",
    "* Chaining: make each slot a linked list, and simply append each item to the linked list at the assigned slot\n",
    "    * drawback: hash table can devolve into a linked list if collisions tend to happen at any particular value, defeating the purpose of hashing\n",
    "\n",
    "### Comparing Collision Resolution Methods\n",
    "* depends on the load factor $\\lambda = \\frac{numItems}{tableSize}$\n",
    "* table below shows average number of comparisons needed for a search\n",
    "* In general, probing methods are more efficient went load factor is lower. Chaining is better when load factors are higher\n",
    "\n",
    "|Method | Successful Search | Unsuccessful Search |\n",
    "|-|-|-|\n",
    "|Linear Probing | $\\frac{1}{2}(1+\\frac{1}{1-\\lambda})$ | $\\frac{1}{2}(1+\\frac{1}{1-\\lambda})^2$ |\n",
    "|Chaining | $1+\\frac{\\lambda}{2}$ | $\\lambda$|\n",
    "    \n"
   ]
  },
  {
   "cell_type": "markdown",
   "metadata": {},
   "source": [
    "## Using Hash Map To Solve Problems\n",
    "\n",
    "[Finding Intersection of Two Arrays](6-Search&Sort/x.Exercises.easy/ArrayIntersection.ipynb)"
   ]
  }
 ],
 "metadata": {
  "kernelspec": {
   "display_name": "Python_Study",
   "language": "python",
   "name": "python3"
  },
  "language_info": {
   "codemirror_mode": {
    "name": "ipython",
    "version": 3
   },
   "file_extension": ".py",
   "mimetype": "text/x-python",
   "name": "python",
   "nbconvert_exporter": "python",
   "pygments_lexer": "ipython3",
   "version": "3.10.14"
  }
 },
 "nbformat": 4,
 "nbformat_minor": 2
}
