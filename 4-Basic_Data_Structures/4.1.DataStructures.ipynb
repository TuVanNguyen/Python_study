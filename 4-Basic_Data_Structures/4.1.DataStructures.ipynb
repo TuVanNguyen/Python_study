{
 "cells": [
  {
   "cell_type": "markdown",
   "metadata": {},
   "source": [
    "# Basic Data Structures\n",
    "  * all data structures covered in the book can be installed using `pip install pythonds`\n",
    "\n",
    "\n",
    "## 4.2 Linear Structures\n",
    "* A collection where once an item is added, the item stays in that position relative to other elements that came before or after it\n",
    "* includes stacks, queues, deques, and lists \n",
    "* has two ends where (depending on the type of linear structure), an item can be added or removed\n",
    "\n",
    "### Why know these linear structures?\n",
    "* some of the most useful data structures in computer science because they're used in many algorithms\n",
    "\n",
    "## 4.3 The Stack\n",
    "* adding and subtracting items always takes place at the same end known as the \"top\"\n",
    "* the other end is \"the base\"\n",
    "* Ordering principle: LIFO (last-in first-out)\n",
    "* Important property: removal is reverse order of insertion\n",
    "    * One use is using the \"back\" button on web browsers to go to the last page visited: the button retrieves pages in reverse order to when you visited them\n",
    "* See [Stack.py](Stack.py) for full implementation of a stack\n",
    "\n",
    "## 4.10 Queue\n",
    "* an collection where new items are added to the \"rear\" end, and items are removed at the \"front\" end\n",
    "* Ordering Principle: FIFO (first-in first-out)\n",
    "\n",
    "## 4.15 Deque\n",
    "* double-ended queue, meaning you can add or remove items from either end\n",
    "* Ordering Principle: user's discretion\n",
    "\n",
    "## 4.19 Lists\n",
    "* an collection where each item has a position relative to the others\n",
    "* each item has an index\n",
    "* in many other programming languages such as C, lists have to be implemented by programmer\n",
    "  * See [Linked List](LinkedList.py) to see a common implementation of a list\n",
    "\n",
    "\n",
    "\n"
   ]
  },
  {
   "cell_type": "code",
   "execution_count": null,
   "metadata": {
    "vscode": {
     "languageId": "plaintext"
    }
   },
   "outputs": [],
   "source": []
  }
 ],
 "metadata": {
  "language_info": {
   "name": "python"
  }
 },
 "nbformat": 4,
 "nbformat_minor": 2
}
