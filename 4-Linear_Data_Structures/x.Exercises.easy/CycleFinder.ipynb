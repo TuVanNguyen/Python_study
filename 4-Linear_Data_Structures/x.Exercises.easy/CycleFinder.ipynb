{
 "cells": [
  {
   "cell_type": "markdown",
   "id": "85b9ac2a",
   "metadata": {},
   "source": [
    "# Find Cycle in Linked List\n",
    "\n",
    "## Problem Statement\n",
    "Given a linked list, determine whether there is a cycle."
   ]
  },
  {
   "cell_type": "markdown",
   "id": "ae3e09a1",
   "metadata": {},
   "source": [
    "## Two Pointer Solution (Floyd's Cycle Finding Algorithm)\n",
    "We can use a fast and slow runner to determine whether a cycle exist. The fast and slow runner start at the same point, but the fast runner increments by 2 and the slow runner by 1. \n",
    "\n",
    "If there is no cycle, the fast runner should be able to reach the end of the list.\n",
    "\n",
    "If there is a cycle, there will be a point when the fast runner \"laps\" the slow runner within the cycle. We know this happened if the fast runner is at the same point in the linked list as the slow runner ` slow == fast`."
   ]
  },
  {
   "cell_type": "code",
   "execution_count": 4,
   "id": "553a8585",
   "metadata": {},
   "outputs": [
    {
     "name": "stdout",
     "output_type": "stream",
     "text": [
      "False\n",
      "False\n",
      "True\n",
      "True\n"
     ]
    }
   ],
   "source": [
    "\"\"\"\n",
    "\n",
    "\"\"\"\n",
    "\n",
    "class Node:\n",
    "    def __init__(self, val: int, next: \"Node\"):\n",
    "        self.val = val\n",
    "        self.next = next\n",
    "\n",
    "def findCycle(start: Node) -> bool:\n",
    "    if not start:\n",
    "        return False\n",
    "\n",
    "    slow = fast = start\n",
    "\n",
    "    while fast and fast.next:\n",
    "        fast = fast.next.next\n",
    "        slow = slow.next\n",
    "        if slow == fast:\n",
    "            return True\n",
    "    return False\n",
    "\n",
    "D = Node(4, None)\n",
    "C = Node(3, D)\n",
    "B = Node(2, C)\n",
    "A = Node(1, B)\n",
    "\n",
    "print(findCycle(A))\n",
    "print(findCycle(C))\n",
    "\n",
    "D.next = B\n",
    "print(findCycle(A))\n",
    "print(findCycle(C))\n"
   ]
  }
 ],
 "metadata": {
  "kernelspec": {
   "display_name": "Python 3",
   "language": "python",
   "name": "python3"
  },
  "language_info": {
   "codemirror_mode": {
    "name": "ipython",
    "version": 3
   },
   "file_extension": ".py",
   "mimetype": "text/x-python",
   "name": "python",
   "nbconvert_exporter": "python",
   "pygments_lexer": "ipython3",
   "version": "3.10.0"
  }
 },
 "nbformat": 4,
 "nbformat_minor": 5
}
