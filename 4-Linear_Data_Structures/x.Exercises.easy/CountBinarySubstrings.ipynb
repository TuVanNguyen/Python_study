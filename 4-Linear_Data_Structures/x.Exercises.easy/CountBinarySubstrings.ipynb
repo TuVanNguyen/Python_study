{
 "cells": [
  {
   "cell_type": "markdown",
   "id": "49a97ccf",
   "metadata": {},
   "source": [
    "# Count Binary Substrings\n",
    "\n",
    "Given a binary string s, return the number of non-empty substrings that have the same number of 0's and 1's, and all the 0's and all the 1's in these substrings are grouped consecutively.\n",
    "\n",
    "Substrings that occur multiple times are counted the number of times they occur.\n",
    "\n",
    "### Example 1:\n",
    "Input: s = \"00110011\"\\\n",
    "Output: 6\\\n",
    "Explanation: There are 6 substrings that have equal number of consecutive 1's and 0's: \"0011\", \"01\", \"1100\", \"10\", \"0011\", and \"01\". Notice that some of these substrings repeat and are counted the number of times they occur.\n",
    "Also, \"00110011\" is not a valid substring because all the 0's (and 1's) are not grouped together.\n",
    "\n",
    "### Example 2:\n",
    "Input: s = \"10101\"\\\n",
    "Output: 4\\\n",
    "Explanation: There are 4 substrings: \"10\", \"01\", \"10\", \"01\" that have equal number of consecutive 1's and 0's.\n",
    " \n",
    "[Leetcode Problem Link](https://leetcode.com/problems/count-binary-substrings/description) "
   ]
  },
  {
   "cell_type": "markdown",
   "id": "b53ee8c6",
   "metadata": {},
   "source": [
    "## Two Pointer Sliding Window Approach\n",
    "\n",
    "We can observe from the examples that every valid substring will have the substring \"01\" or \"10\" at the center. So we, can iterate over the string in order to look for these substrings. Upon finding them, we can increase the `count` of valid substrings. We can then can expand the `left` and `right` edge of the substring while it fulfills the conditions of valid substring, and is within the string. As long as the conditions are fulfilled, we can increase `count`. Finally we return `count` as our answer.\n",
    "\n",
    "## Analysis\n",
    "* Time Complexity: $O(N^2)$\n",
    "    * Iterating over the string to find the base substring takes N operations\n",
    "    * Expanding the window is nested inside the iteration, and would also take some factor of N operations\n",
    "    * So, $O(N^2)$\n",
    "* Space Complexity: O(1)\n",
    "    * we just need a fixed number of variables to form the pointers for the sliding window"
   ]
  },
  {
   "cell_type": "code",
   "execution_count": 1,
   "id": "1d359848",
   "metadata": {},
   "outputs": [
    {
     "name": "stdout",
     "output_type": "stream",
     "text": [
      "6\n"
     ]
    }
   ],
   "source": [
    "def countBinarySubstrings(s: str) -> int:\n",
    "    count = 0\n",
    "    for i in range(1, len(s)):\n",
    "        left, right = i-1,i\n",
    "        if s[left] != s[right]:\n",
    "            num_left = s[left]\n",
    "            num_right = s[right]\n",
    "            while left >=0 and right < len(s) and s[left]== num_left and s[right]== num_right:\n",
    "                count += 1\n",
    "                left -= 1\n",
    "                right += 1\n",
    "    return count\n",
    "\n",
    "print(countBinarySubstrings(\"00110011\"))"
   ]
  },
  {
   "cell_type": "markdown",
   "id": "93678112",
   "metadata": {},
   "source": [
    "## Grouping Approach\n",
    "\n",
    "Another key insight is that we can compress the binary string into a string where each number is a count of consecutive numbers e.g \"00110011\" -> \"2222\"\n",
    "\n",
    "So for each pair of numbers in the compressed substring, we add the minimum to our count of substrings. \n",
    "\n",
    "### Analysis\n",
    "* Time Complexity: O(N)\n",
    "    * Compressing the string can be done in O(N)\n",
    "    * going through each pair in the compressed substring is at most O(N)\n",
    "    * T(N) = N + N = O(N)\n",
    "* Space Complexity: O(N)\n",
    "    * the compressed string can take up O(N) memory"
   ]
  },
  {
   "cell_type": "code",
   "execution_count": null,
   "id": "b59348ef",
   "metadata": {},
   "outputs": [],
   "source": [
    "def countBinarySubstrings(s: str) -> int:\n",
    "    count = 0\n",
    "    compressed = []\n",
    "    last = None\n",
    "    for num in s:\n",
    "        if num != last:\n",
    "            compressed.append(1)\n",
    "            last = num\n",
    "        else:\n",
    "            compressed[-1] += 1\n",
    "    \n",
    "    for num in range(1,len(compressed)):\n",
    "        count += min(compressed[num-1], compressed[num])\n",
    "\n",
    "    return count\n",
    "\n",
    "print(countBinarySubstrings(\"00110011\"))"
   ]
  },
  {
   "cell_type": "markdown",
   "id": "b18d2f7e",
   "metadata": {},
   "source": [
    "## Linear scan\n",
    "Instead of creating a separate list to store the compressed string, we can just keep count of consecutive 1's and 0's as we scan through the list.\n",
    "\n",
    "### Analysis\n",
    "* Time Complexity: O(N)\n",
    "* Space Complexity: O(1)"
   ]
  },
  {
   "cell_type": "code",
   "execution_count": 2,
   "id": "875aed5d",
   "metadata": {},
   "outputs": [
    {
     "name": "stdout",
     "output_type": "stream",
     "text": [
      "6\n"
     ]
    }
   ],
   "source": [
    "def countBinarySubstrings(s: str) -> int:\n",
    "    count = 0\n",
    "    prev = 0\n",
    "    cur = 1\n",
    "    for num in range(1,len(s)):\n",
    "        if s[num-1] != s[num]:\n",
    "            count += min(prev, cur)\n",
    "            prev = cur\n",
    "            cur = 0\n",
    "            \n",
    "        cur += 1\n",
    "    count += min(prev, cur)\n",
    "    return count\n",
    "\n",
    "print(countBinarySubstrings(\"00110011\"))"
   ]
  }
 ],
 "metadata": {
  "kernelspec": {
   "display_name": "Python 3",
   "language": "python",
   "name": "python3"
  },
  "language_info": {
   "codemirror_mode": {
    "name": "ipython",
    "version": 3
   },
   "file_extension": ".py",
   "mimetype": "text/x-python",
   "name": "python",
   "nbconvert_exporter": "python",
   "pygments_lexer": "ipython3",
   "version": "3.10.0"
  }
 },
 "nbformat": 4,
 "nbformat_minor": 5
}
