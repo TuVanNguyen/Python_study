{
 "cells": [
  {
   "cell_type": "markdown",
   "id": "fe9bb680",
   "metadata": {},
   "source": [
    "# Flipping an Image\n",
    "\n",
    "Given an n x n binary matrix image, flip the image horizontally, then invert it, and return the resulting image.\n",
    "\n",
    "To flip an image horizontally means that each row of the image is reversed.\n",
    "\n",
    "For example, flipping [1,1,0] horizontally results in [0,1,1].\n",
    "To invert an image means that each 0 is replaced by 1, and each 1 is replaced by 0.\n",
    "\n",
    "For example, inverting [0,1,1] results in [1,0,0].\n",
    "\n",
    "### Example 1:\n",
    "Input: image = [[1,1,0],[1,0,1],[0,0,0]]\\\n",
    "Output: [[1,0,0],[0,1,0],[1,1,1]]\\\n",
    "Explanation: First reverse each row: [[0,1,1],[1,0,1],[0,0,0]].\\\n",
    "Then, invert the image: [[1,0,0],[0,1,0],[1,1,1]]\n",
    "\n",
    "### Example 2:\n",
    "Input: image = [[1,1,0,0],[1,0,0,1],[0,1,1,1],[1,0,1,0]]\\\n",
    "Output: [[1,1,0,0],[0,1,1,0],[0,0,0,1],[1,0,1,0]]\\\n",
    "Explanation: First reverse each row: [[0,0,1,1],[1,0,0,1],[1,1,1,0],[0,1,0,1]].\\\n",
    "Then invert the image: [[1,1,0,0],[0,1,1,0],[0,0,0,1],[1,0,1,0]]\n",
    "\n",
    "Constraints:\n",
    "* n == image.length\n",
    "* n == image[i].length\n",
    "* 1 <= n <= 20\n",
    "* images[i][j] is either 0 or 1.\n",
    "\n",
    "[Leetcode Problem Link](https://leetcode.com/problems/flipping-an-image/description/)"
   ]
  },
  {
   "cell_type": "markdown",
   "id": "8d56bf17",
   "metadata": {},
   "source": [
    "## Two Pointer Approach\n",
    "\n",
    "We can use two pointers collision to flip the image in place. For each row, start the pointers `left` and `right` at the beginning and end of the row respectively. Swap the values, then move the pointers towards the center. Move onto the next row after the pointers meet until all the rows are flipped.\n",
    "\n",
    "To invert the image, we can iterate over each row and column. Simply replace each element with 1 if it's 0, and vice versa\n",
    "\n",
    "### Analysis\n",
    "* Time Complexity: $O(N^2)$\n",
    "    * flipping every row is approximately $T(n) = N * \\frac{N}{2}$\n",
    "    * inverting each element is $T(n) = N^2$\n",
    "    * $T(n) = N*\\frac{N}{2} + N^{2} = O(N^2)$\n",
    "\n",
    "\n"
   ]
  },
  {
   "cell_type": "code",
   "execution_count": null,
   "id": "f6326f91",
   "metadata": {},
   "outputs": [],
   "source": [
    "def invertRow(row: List[int]):\n",
    "    for i in range(len(row)):\n",
    "        if row[i] == 0:\n",
    "            row[i] = 1\n",
    "        elif row[i] == 1:\n",
    "            row[i] = 0\n",
    "    return row\n",
    "\n",
    "def flipAndInvertImage(image: List[List[int]]) -> List[List[int]]:\n",
    "    left, right = 0,0\n",
    "\n",
    "    for row in range(len(image)):\n",
    "        left = 0\n",
    "        right = len(image[row]) - 1\n",
    "        while left < right:\n",
    "            temp = image[row][left]\n",
    "            image[row][left] = image[row][right]\n",
    "            image[row][right] = temp\n",
    "            left += 1\n",
    "            right -= 1\n",
    "\n",
    "        \n",
    "        invertRow(image[row])\n",
    "    return image"
   ]
  }
 ],
 "metadata": {
  "language_info": {
   "name": "python"
  }
 },
 "nbformat": 4,
 "nbformat_minor": 5
}
