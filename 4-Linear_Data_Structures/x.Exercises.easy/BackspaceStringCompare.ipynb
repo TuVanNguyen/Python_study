{
 "cells": [
  {
   "cell_type": "markdown",
   "id": "826fc295",
   "metadata": {},
   "source": [
    "# Backspace String Compare\n",
    "\n",
    "Given two strings s and t, return true if they are equal when both are typed into empty text editors. '#' means a backspace character.\n",
    "\n",
    "Note that after backspacing an empty text, the text will continue empty.\n",
    "\n",
    " \n",
    "### Example 1:\n",
    "Input: s = \"ab#c\", t = \"ad#c\"\\\n",
    "Output: true\\\n",
    "Explanation: Both s and t become \"ac\".\n",
    "\n",
    "### Example 2:\n",
    "Input: s = \"ab##\", t = \"c#d#\"\\\n",
    "Output: true\\\n",
    "Explanation: Both s and t become \"\".\n",
    "\n",
    "### Example 3:\n",
    "Input: s = \"a#c\", t = \"b\"\\\n",
    "Output: false\\\n",
    "Explanation: s becomes \"c\" while t becomes \"b\".\n",
    " \n",
    "\n",
    "Constraints:\\\n",
    "1 <= s.length, t.length <= 200\\\n",
    "s and t only contain lowercase letters and '#' characters.\n",
    "\n",
    "[Leetcode Problem Link](https://leetcode.com/problems/backspace-string-compare/description)"
   ]
  },
  {
   "cell_type": "markdown",
   "id": "6dc933fe",
   "metadata": {},
   "source": [
    "## Stack Approach: Most intuitive\n",
    "\n",
    "We can use stacks to track how each string would appear in the text editors and compare them at the end. The stacks can be implemented using lists. As we iterate over the strings, we append the character to the stack if it isn't \"#\". If it is \"#\" and the stack is not empty, we pop the last element we added.\n",
    "\n",
    "### Analysis\n",
    "* Time Complexity: O(N+M)\n",
    "    * Iterating over both strings would be N+M\n",
    "    * Comparing them at the end is N assuming N is the shorter string\n",
    "    * appending and popping both take O(1), so we don't have to account for it\n",
    "    * T(N) = 2*(N+M) + N = O(N+M)\n",
    "* Space Complexity: O(N+M)\n",
    "    * creating two stacks take S(N,M) = N+M = O(N+M)\n"
   ]
  },
  {
   "cell_type": "code",
   "execution_count": null,
   "id": "cd6e386d",
   "metadata": {},
   "outputs": [],
   "source": [
    "def backspaceCompare(s: str, t: str) -> bool:\n",
    "    s_result = []\n",
    "    t_result = []\n",
    "\n",
    "    for char in s:\n",
    "        if char == \"#\" and len(s_result) > 0:\n",
    "            s_result.pop()\n",
    "        elif char != \"#\":\n",
    "            s_result.append(char)\n",
    "    \n",
    "    for char in t:\n",
    "        if char == \"#\" and len(t_result) > 0:\n",
    "            t_result.pop()\n",
    "        elif char != \"#\":\n",
    "            t_result.append(char)\n",
    "\n",
    "    return s_result == t_result"
   ]
  },
  {
   "cell_type": "markdown",
   "id": "f0d9a946",
   "metadata": {},
   "source": [
    "## Parallel Two Pointers Approach: Space efficient\n",
    "Another approach is using parallel two pointers, `ps` and `pt`, to iterate through the two strings, `s` and `t`, in reverse. If the two strings appear the same in the text editor, we should expect both pointers to end up at the beginning of the string without ever pointing to different characters that haven't been backspaced. Additionally, we'll have the variables `skip_s` and `skip_t` to track how many backspaces we currently have for each string.\n",
    "\n",
    "To simulate how the strings would appear to us in the text editor as we iterate over them, we have to consider the following scenarios:\n",
    "1. `s[ps]` is '#': means we need to increment `skip_s` and decrement `ps`\n",
    "1. `s[ps]` is a character that's not '#' and `skip_s` > 0: we need to decrement `skip_s` and `ps`\n",
    "1. `t[pt]` is '#': we need to increment `skip_t` and decrement `pt`\n",
    "1. `t[pt]` is a character that's not '#' and `skip_t` > 0 : we need to to decrement `skip_t` and `pt`\n",
    "1. `s[ps] == t[pt]`: we need to decrement both `ps` and `pt`\n",
    "1. None of the above scenarios are true in an iteration of the loop: return False\n",
    "    * It would mean that the pointers found a pair of mismatched characters that aren't backspaced\n",
    "    * Or one pointer reached the end before the other, which would happen when one string appears longer than the other in the editor\n",
    "\n",
    "Note, that scenarios 1-4 account for when we don't expect the pointers to line up on the same characters as they'd appear in the text editor, because we have to backspace one or more characters. And we also have to check for these scenarios before we check scenario 5.\n",
    "If the two pointers reached the beginning of the string after running all these scenarios for each iteration, we return True.\n",
    "\n",
    "### Analysis\n",
    "* Time Complexity: O(N+M)\n",
    "    * The while loop iterates until `ps` and `pt` decrement to 0\n",
    "    * Worse case scenario, we only decrement one of `ps` or `pt` per iteration because we keep running into scenarios 1-4\n",
    "    * So O(N+M)\n",
    "* Space Complexity: O(1)\n",
    "    * We only create the two pointers and two tracking variables, which is constant space\n",
    "\n"
   ]
  },
  {
   "cell_type": "code",
   "execution_count": null,
   "id": "6857efa6",
   "metadata": {},
   "outputs": [],
   "source": [
    "def backspaceCompare(s: str, t: str) -> bool:\n",
    "    ps = len(s) - 1\n",
    "    pt = len(t) - 1\n",
    "    skip_s = 0\n",
    "    skip_t = 0\n",
    "\n",
    "    while ps >= 0 or pt >= 0:\n",
    "        if ps >=0 and s[ps] == \"#\":\n",
    "            skip_s += 1\n",
    "            ps -= 1 \n",
    "        elif ps >= 0 and s[ps] != \"#\" and skip_s > 0:\n",
    "            skip_s -= 1\n",
    "            ps -= 1\n",
    "        elif pt >= 0 and t[pt] == \"#\":\n",
    "            skip_t += 1\n",
    "            pt -= 1\n",
    "        elif pt >= 0 and t[pt] != \"#\" and skip_t > 0:\n",
    "            skip_t -= 1\n",
    "            pt -= 1\n",
    "        elif ps >= 0 and pt >= 0 and s[ps] == t[pt]:\n",
    "            ps -= 1\n",
    "            pt -= 1\n",
    "        else:\n",
    "            return False\n",
    "    return True\n"
   ]
  },
  {
   "cell_type": "markdown",
   "id": "45bb3a5a",
   "metadata": {},
   "source": [
    "## Generator Approach: Time and Space Efficient, uses Python features to increase readability"
   ]
  }
 ],
 "metadata": {
  "language_info": {
   "name": "python"
  }
 },
 "nbformat": 4,
 "nbformat_minor": 5
}
