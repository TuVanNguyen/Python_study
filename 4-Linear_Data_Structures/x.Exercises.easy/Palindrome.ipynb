{
 "cells": [
  {
   "cell_type": "markdown",
   "id": "60423e60",
   "metadata": {},
   "source": [
    "# Palindrome\n",
    "\n",
    "## Problem Statement\n",
    "Given some string, check that it is a palindrome. A palindrome is a string such that it's spelled the same as its reversal.\n",
    "You may disregard case, punctuation, and space.\n",
    "* Input: str\n",
    "* Output: boolean, answer to whether the input string is a palindrome\n",
    "\n",
    "Examples:\n",
    "Input: \"apple\", Output: false\n",
    "Input: \"nurses run\", Output: True\n",
    "Input: \"kayak\", Output: True"
   ]
  },
  {
   "cell_type": "markdown",
   "id": "f920ee84",
   "metadata": {},
   "source": [
    "## Left and Right Two Pointer Solution\n",
    "\n",
    "### Analysis\n",
    "* Time Complexity: O(N)\n",
    "    * Pointers start out N apart, and distance decrements by 2 after each iteration until they converge \n",
    "    * if we add a regex to clean the string, it also just need to iterate over N length string\n",
    "    *T(N) = N/2 + N = O(N)\n",
    "* Space Complexity: O(1)\n",
    "    * only need to store a constant amount of new variables: the two pointers"
   ]
  },
  {
   "cell_type": "code",
   "execution_count": 7,
   "id": "455df3eb",
   "metadata": {},
   "outputs": [
    {
     "name": "stdout",
     "output_type": "stream",
     "text": [
      "True\n",
      "False\n",
      "True\n"
     ]
    }
   ],
   "source": [
    "\"\"\"\n",
    "Left and Right Two Pointer Solution for palindrome\n",
    "\"\"\"\n",
    "import re\n",
    "\n",
    "def isPalindrome(s: str) -> bool:\n",
    "    clean_s = re.sub(r'[^a-zA-Z0-9]', '', s).lower()\n",
    "    left, right = 0, (len(clean_s)-1)\n",
    "    while left < right:\n",
    "        if clean_s[left] != clean_s[right]:\n",
    "            return False\n",
    "        left += 1\n",
    "        right -=1\n",
    "    return True\n",
    "\n",
    "print(isPalindrome(\"kayak\"))\n",
    "print(isPalindrome(\"apple\"))\n",
    "print(isPalindrome(\"Nurses run!\"))"
   ]
  },
  {
   "cell_type": "markdown",
   "id": "c9d290ba",
   "metadata": {},
   "source": [
    "## Problem Statement for Palindrome Variation #2\n",
    "\n",
    "Given a string s, return true if the s can be palindrome after deleting at most one character from it.\n",
    "For this problem, just assume the input is a string consisting of only lowercase English letters.\n",
    "[Leetcode Problem Link](https://leetcode.com/problems/valid-palindrome-ii/description)\n",
    "\n",
    "#### Example 1:\n",
    "Input: s = \"aba\"\\\n",
    "Output: true\n",
    "\n",
    "#### Example 2:\n",
    "Input: s = \"abca\"\\\n",
    "Output: true\\\n",
    "Explanation: You could delete the character 'c'.\n",
    "\n",
    "#### Example 3:\n",
    "Input: s = \"abc\"\\\n",
    "Output: false\n"
   ]
  },
  {
   "cell_type": "markdown",
   "id": "226ee8a6",
   "metadata": {},
   "source": [
    "## Recursive Solution\n",
    "\n",
    "We can use a recursive solution very similarly to the first version of the palindrome problem. But to account for skipping a character after 1 mismatch, we need to consider whether to skip the left-side or right-side character.\n",
    "* Inputs:\n",
    "    * s (str):  the string we're checking whether it's a palindrome\n",
    "    * skip (int): the number of characters we can skip and continue the palindrome check; start with skip = 1\n",
    "* Base Cases: \n",
    "    * BC #1: if len(s) <= 1, return True (we'll consider empty strings and single characters as palindromes)\n",
    "    * BC #2: if first and last characters don't match and skip == 0, return False\n",
    "* Recursive Case: we'll have two recursive cases\n",
    "    * RC #1: first and last characters match\n",
    "    * RC #2: first and last don't match and skip > 0\n",
    "* State change: \n",
    "    * For RC #1: we pass s[1:-1] into the recursive call (continuing the palindrome check after removing the first and last characters)\n",
    "    * For RC#2: we decrement skip to zero and need to pass two recursive calls with the following inputs:\n",
    "        * s[1:] (checks for palindrome if we skip the left character)\n",
    "        * s[:-1] (checks for palindrome if we skip the right character)\n",
    "\n",
    "### Analysis\n",
    "* Time Complexity: O(N)\n",
    "    * in each layer of the recursion stack, we have to remove at least 1 letter from the input before passing it to the next layer in the recursion stack. So, it will take us N recursion calls to get to the base case in worst case scenario\n",
    "* Space Complexity: $O(N^2)$ \n",
    "    * we will need N layers for the recursive stack\n",
    "    * in each layer, we do string splicing which requires another N memory per layer\n",
    "    * put together, that's $O(N^2)$\n"
   ]
  },
  {
   "cell_type": "code",
   "execution_count": 1,
   "id": "0a8ed3da",
   "metadata": {},
   "outputs": [
    {
     "name": "stdout",
     "output_type": "stream",
     "text": [
      "True\n"
     ]
    }
   ],
   "source": [
    "def validpalindrome(s: str, skip: int = 1) -> bool:\n",
    "    if len(s) <= 1:\n",
    "        return True\n",
    "    if s[0] == s[-1]:\n",
    "        return validpalindrome(s[1:-1], skip)\n",
    "    elif skip > 0:\n",
    "        return validpalindrome(s[0:-1], 0) or validpalindrome(s[1:], 0)\n",
    "    return False\n",
    "\n",
    "print(validpalindrome(\"abca\"))"
   ]
  },
  {
   "cell_type": "markdown",
   "id": "26e99481",
   "metadata": {},
   "source": [
    "## Two Pointers Collision Solution\n",
    "We can modify the two pointer collision approach, to allow for skipping a character. We'll have `left` and `right` pointers that start at the beginning and end of the string respectively. We ensure the characters at `left` and `right` match before moving them towards the center.\n",
    "\n",
    "We will also have a `skip` variable that tracks how many letters we can still skip while satisfying the conditions for a palindrome. If we find a mismatch and `skip` > 0, we can try skipping the character at `left` and see if we can still get a palindrome. However, we'll also want to save the positions for skipping the `right` character so that we can backtrack to those positions if the palindrome check fails after skipping the `left` character.\n",
    "\n",
    "If we run out of skips and come across a mismatch, return False.\n",
    "\n",
    "If `left` and `right` meet, return True.  \n",
    "\n",
    "### Analysis\n",
    "* Time Complexity: O(N)\n",
    "    * We're moving through one to two positions in the string with each iteration \n",
    "* Space Complexity: O(1)\n",
    "    * the only memory we need are for a constant number of variables (5)"
   ]
  },
  {
   "cell_type": "code",
   "execution_count": 2,
   "id": "537b69da",
   "metadata": {},
   "outputs": [
    {
     "name": "stdout",
     "output_type": "stream",
     "text": [
      "True\n"
     ]
    }
   ],
   "source": [
    "def validPalindrome(s: str) -> bool:\n",
    "    skip = 1\n",
    "    left, right = 0, (len(s)-1)\n",
    "    try_left, try_right = None, None\n",
    "    while left < right:\n",
    "        if s[left] == s[right]:\n",
    "            left += 1\n",
    "            right -= 1\n",
    "        elif skip > 0:\n",
    "            try_left = left\n",
    "            try_right = right-1\n",
    "            left += 1\n",
    "            skip -= 1\n",
    "        elif try_left != None:\n",
    "            left = try_left\n",
    "            right = try_right\n",
    "            try_left, try_right = None, None\n",
    "        else:\n",
    "            return False\n",
    "    return True\n",
    "\n",
    "print(validPalindrome('abca'))"
   ]
  }
 ],
 "metadata": {
  "kernelspec": {
   "display_name": "Python 3",
   "language": "python",
   "name": "python3"
  },
  "language_info": {
   "codemirror_mode": {
    "name": "ipython",
    "version": 3
   },
   "file_extension": ".py",
   "mimetype": "text/x-python",
   "name": "python",
   "nbconvert_exporter": "python",
   "pygments_lexer": "ipython3",
   "version": "3.10.0"
  }
 },
 "nbformat": 4,
 "nbformat_minor": 5
}
