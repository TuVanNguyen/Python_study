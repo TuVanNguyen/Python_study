{
 "cells": [
  {
   "cell_type": "markdown",
   "id": "60423e60",
   "metadata": {},
   "source": [
    "# Palindrome\n",
    "\n",
    "## Problem Statement\n",
    "Given some string, check that it is a palindrome. A palindrome is a string such that it's spelled the same as its reversal.\n",
    "You may disregard case, punctuation, and space.\n",
    "* Input: str\n",
    "* Output: boolean, answer to whether the input string is a palindrome\n",
    "\n",
    "Examples:\n",
    "Input: \"apple\", Output: false\n",
    "Input: \"nurses run\", Output: True\n",
    "Input: \"kayak\", Output: True"
   ]
  },
  {
   "cell_type": "markdown",
   "id": "f920ee84",
   "metadata": {},
   "source": [
    "## Left and Right Two Pointer Solution\n",
    "\n",
    "### Analysis\n",
    "* Time Complexity: O(N)\n",
    "    * Pointers start out N apart, and distance decrements by 2 after each iteration until they converge \n",
    "    * if we add a regex to clean the string, it also just need to iterate over N length string\n",
    "    *T(N) = N/2 + N = O(N)\n",
    "* Space Complexity: O(1)\n",
    "    * only need to store a constant amount of new variables: the two pointers"
   ]
  },
  {
   "cell_type": "code",
   "execution_count": 7,
   "id": "455df3eb",
   "metadata": {},
   "outputs": [
    {
     "name": "stdout",
     "output_type": "stream",
     "text": [
      "True\n",
      "False\n",
      "True\n"
     ]
    }
   ],
   "source": [
    "\"\"\"\n",
    "Left and Right Two Pointer Solution for palindrome\n",
    "\"\"\"\n",
    "import re\n",
    "\n",
    "def isPalindrome(s: str) -> bool:\n",
    "    clean_s = re.sub(r'[^a-zA-Z0-9]', '', s).lower()\n",
    "    left, right = 0, (len(clean_s)-1)\n",
    "    while left < right:\n",
    "        if clean_s[left] != clean_s[right]:\n",
    "            return False\n",
    "        left += 1\n",
    "        right -=1\n",
    "    return True\n",
    "\n",
    "print(isPalindrome(\"kayak\"))\n",
    "print(isPalindrome(\"apple\"))\n",
    "print(isPalindrome(\"Nurses run!\"))"
   ]
  }
 ],
 "metadata": {
  "kernelspec": {
   "display_name": "Python 3",
   "language": "python",
   "name": "python3"
  },
  "language_info": {
   "codemirror_mode": {
    "name": "ipython",
    "version": 3
   },
   "file_extension": ".py",
   "mimetype": "text/x-python",
   "name": "python",
   "nbconvert_exporter": "python",
   "pygments_lexer": "ipython3",
   "version": "3.10.0"
  }
 },
 "nbformat": 4,
 "nbformat_minor": 5
}
