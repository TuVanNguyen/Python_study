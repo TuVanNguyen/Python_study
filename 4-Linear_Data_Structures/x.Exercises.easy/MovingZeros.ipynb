{
 "cells": [
  {
   "cell_type": "markdown",
   "id": "9875f45f",
   "metadata": {},
   "source": [
    "# Move Zeros\n",
    "\n",
    "Given an integer array nums, move all 0's to the end of it while maintaining the relative order of the non-zero elements.\n",
    "\n",
    "**Note** that you must do this in-place without making a copy of the array.\n",
    "\n",
    "[Move Zeroes](https://leetcode.com/problems/move-zeroes/description/)\n",
    "\n",
    "### Example 1:\n",
    "\n",
    "Input: nums = [0,1,0,3,12]\n",
    "Output: [1,3,12,0,0]"
   ]
  },
  {
   "cell_type": "markdown",
   "id": "43656e1f",
   "metadata": {},
   "source": [
    "## Sliding Window Two Pointer Approach\n",
    "\n",
    "We can use a sliding window to capture all the zeros we encounter as we traverse the list. We will have a pointer for the **start** and **end** of the window. We assign **start** at the index we encounter the first zero, and **end** at subsequent zeros. The sliding window expands as we encounter more zeros. If we encounter a non-zero after **start** is assigned, we switch the zero at **start** with the non-zero at its index. And then, we shift the index of both **start** and **end**, effectively moving the sliding window towards the end of the list.\n",
    "\n",
    "### Analysis\n",
    "* Time Complexity: O(N)\n",
    "    * we only iterate through the list once\n",
    "* Space Complexity: O(1)\n",
    "    * we only need to create 2 new variables: the two pointers\n",
    "\n",
    "    "
   ]
  },
  {
   "cell_type": "code",
   "execution_count": 4,
   "id": "d76fa65f",
   "metadata": {},
   "outputs": [
    {
     "name": "stdout",
     "output_type": "stream",
     "text": [
      "[1, 3, 12, 0, 0]\n"
     ]
    }
   ],
   "source": [
    "from typing import List\n",
    "\n",
    "def moveZeroes(nums: List[int]) -> None:\n",
    "    start = None\n",
    "    end = None\n",
    "\n",
    "    for i in range(len(nums)):\n",
    "        if nums[i] == 0:\n",
    "            if start == None:\n",
    "                start = i\n",
    "            end = i\n",
    "        elif start != None:\n",
    "            temp = nums[start]\n",
    "            nums[start] = nums[i]\n",
    "            nums[i] = temp\n",
    "            start += 1\n",
    "            end += 1\n",
    "\n",
    "nums = [0,1,0,3,12]\n",
    "moveZeroes(nums)\n",
    "print(nums)"
   ]
  }
 ],
 "metadata": {
  "kernelspec": {
   "display_name": "Python 3",
   "language": "python",
   "name": "python3"
  },
  "language_info": {
   "codemirror_mode": {
    "name": "ipython",
    "version": 3
   },
   "file_extension": ".py",
   "mimetype": "text/x-python",
   "name": "python",
   "nbconvert_exporter": "python",
   "pygments_lexer": "ipython3",
   "version": "3.10.0"
  }
 },
 "nbformat": 4,
 "nbformat_minor": 5
}
