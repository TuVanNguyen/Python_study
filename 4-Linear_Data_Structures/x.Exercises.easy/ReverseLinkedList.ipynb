{
 "cells": [
  {
   "cell_type": "markdown",
   "id": "7c89ef4b",
   "metadata": {},
   "source": [
    "# Reverse Linked List\n",
    "Given the head of a singly linked list, reverse the list, and return the reversed list.\n",
    "\n",
    "### Example \n",
    "Input: head = [1,2,3,4,5]\n",
    "Output: [5,4,3,2,1]\n",
    "\n",
    "[Leetcode Problem Link](https://leetcode.com/problems/reverse-linked-list/description/)"
   ]
  },
  {
   "cell_type": "markdown",
   "id": "9c1deb42",
   "metadata": {},
   "source": [
    "## Forward Two Pointers Approach\n",
    "We have two pointers: `curr` to track the current node in the linked list and `prev` to track the node right behind `curr`. We initialize `curr` to the head node, and `prev` to None. In order to reverse a list, we need to reassign the \"next\" attribute of each node to its previous node. We do this by traversing the node with `curr`. As each node, we have a `temp` variable to store `curr.next`. Then we reassign `curr.next` to `prev`. We then reassign `prev` to `curr` and `curr` to `temp`. After iterating through the whole list, `prev` ends up being the head of the reversed list so we return that.\n",
    "\n",
    "### Analysis\n",
    "* Time Complexity: O(N)\n",
    "    * we only have to traverse the linked list once\n",
    "* Space Complexity: O(1)\n",
    "    * we only have to create 3 new variables: the two pointers and `temp`\n"
   ]
  },
  {
   "cell_type": "code",
   "execution_count": null,
   "id": "12ecd8f6",
   "metadata": {},
   "outputs": [],
   "source": [
    "def reverseList(self, head: Optional[ListNode]) -> Optional[ListNode]:\n",
    "    prev = None\n",
    "    curr = head\n",
    "\n",
    "    while curr != None:\n",
    "        temp = curr.next\n",
    "        curr.next = prev\n",
    "        prev = curr\n",
    "        curr = temp\n",
    "\n",
    "    return prev"
   ]
  }
 ],
 "metadata": {
  "language_info": {
   "name": "python"
  }
 },
 "nbformat": 4,
 "nbformat_minor": 5
}
