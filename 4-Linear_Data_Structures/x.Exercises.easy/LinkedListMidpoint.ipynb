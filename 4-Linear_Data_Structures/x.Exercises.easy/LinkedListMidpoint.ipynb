{
 "cells": [
  {
   "cell_type": "markdown",
   "id": "f741ee7e",
   "metadata": {},
   "source": [
    "# Middle of the Linked List\n",
    "Given the head of a singly linked list, return the middle node of the linked list.\n",
    "If there are two middle nodes, return the second middle node.\n",
    "\n",
    "## Example\n",
    "Input: head = [1,2,3,4,5]\n",
    "Output: [3,4,5]\n",
    "Explanation: The middle node of the list is node 3.\n",
    "\n",
    "## Example\n",
    "Input: head = [1,2,3,4,5,6]\n",
    "Output: [4,5,6]\n",
    "Explanation: Since the list has two middle nodes with values 3 and 4, we return the second one.\n",
    "\n",
    "[Leetcode Problem Link](https://leetcode.com/problems/middle-of-the-linked-list/description/)"
   ]
  },
  {
   "cell_type": "markdown",
   "id": "11bcf81e",
   "metadata": {},
   "source": [
    "## Fast and Slow Two Pointer Approach\n",
    "\n",
    "We start both `fast` and `slow` at head. We'll iterate with these pointers until `fast` and `fast.next` is None. For each iteration, we advance `slow` to `slow.next` and `fast` to `fast.next.next`.\n",
    "\n",
    "By the time fast reaches the end of the list, `slow` ends up at the midpoint or second midpoint. So, we simply return `slow`."
   ]
  },
  {
   "cell_type": "code",
   "execution_count": null,
   "id": "b04a33b1",
   "metadata": {
    "vscode": {
     "languageId": "plaintext"
    }
   },
   "outputs": [],
   "source": []
  }
 ],
 "metadata": {
  "language_info": {
   "name": "python"
  }
 },
 "nbformat": 4,
 "nbformat_minor": 5
}
