{
 "cells": [
  {
   "cell_type": "markdown",
   "id": "fa8d2d7f",
   "metadata": {},
   "source": [
    "# Capture Enemy Forts\n",
    "\n",
    "## Problem Statement\n",
    "You are given an array with the following values:\n",
    "* -1: empty position\n",
    "* 0 : enemy fort\n",
    "* 1: fort occupied by you\n",
    "\n",
    "Return the maximum number of enemy forts you can capture as you travel from an empty position, to a fort occupied by you. You can only travel through enemy forts,\n",
    "\n",
    "(In other words, return the highest number of continguous 0's between -1 and 1.)\n",
    "\n",
    "### Examples\n",
    "\n",
    "Input: [1,0,0,-1,0,0,0,0,1] \n",
    "Output: 4\n",
    "\n",
    "Traveling from index 3 to index 8, you can capture 4 forts.\n"
   ]
  },
  {
   "cell_type": "markdown",
   "id": "36cb423c",
   "metadata": {},
   "source": [
    "## Two Pointer Solution\n",
    "\n",
    "You can use one pointer `start` to track an empty position and `end` to track a fort occupied by you. You can also have another variable `max_captured` to track the maximum  number of enemy forts between `start` and `end`.\n",
    "\n",
    "Both `start` and `end` are assigned `None` at the beginning. As we iterate over the array we assign `start` and `end` if they meet the conditions. Whenever `start` and `end` both have a value, we recalculate `max_captured`. We reassign `start` and `end` to `None` as needed so we can consider the next solution. \n",
    "\n",
    "### Analysis\n",
    "* Time Complexity: O(N)\n",
    "    * just need to traverse the array once\n",
    "* Space Complexity: O(1)\n",
    "    * just need to store 2 pointers"
   ]
  },
  {
   "cell_type": "code",
   "execution_count": null,
   "id": "11981673",
   "metadata": {},
   "outputs": [
    {
     "ename": "NameError",
     "evalue": "name 'List' is not defined",
     "output_type": "error",
     "traceback": [
      "\u001b[1;31m---------------------------------------------------------------------------\u001b[0m",
      "\u001b[1;31mNameError\u001b[0m                                 Traceback (most recent call last)",
      "Cell \u001b[1;32mIn[1], line 5\u001b[0m\n\u001b[0;32m      1\u001b[0m \u001b[38;5;124;03m\"\"\"\u001b[39;00m\n\u001b[0;32m      2\u001b[0m \u001b[38;5;124;03mTwo Pointer Solution to Capture Forts\u001b[39;00m\n\u001b[0;32m      3\u001b[0m \u001b[38;5;124;03m\"\"\"\u001b[39;00m\n\u001b[1;32m----> 5\u001b[0m \u001b[38;5;28;01mdef\u001b[39;00m\u001b[38;5;250m \u001b[39m\u001b[38;5;21mcaptureForts\u001b[39m(forts: \u001b[43mList\u001b[49m[\u001b[38;5;28mint\u001b[39m]) \u001b[38;5;241m-\u001b[39m\u001b[38;5;241m>\u001b[39m \u001b[38;5;28mint\u001b[39m:\n\u001b[0;32m      6\u001b[0m     max_captured \u001b[38;5;241m=\u001b[39m \u001b[38;5;241m0\u001b[39m\n\u001b[0;32m      7\u001b[0m     start \u001b[38;5;241m=\u001b[39m end \u001b[38;5;241m=\u001b[39m \u001b[38;5;28;01mNone\u001b[39;00m\n",
      "\u001b[1;31mNameError\u001b[0m: name 'List' is not defined"
     ]
    }
   ],
   "source": [
    "\"\"\"\n",
    "Two Pointer Solution to Capture Forts\n",
    "\"\"\"\n",
    "\n",
    "from typing import List\n",
    "\n",
    "\n",
    "def captureForts(forts: List[int]) -> int:\n",
    "    max_captured = 0\n",
    "    start = end = None\n",
    "    for pos in range(len(forts)):\n",
    "        if forts[pos] == -1:\n",
    "            end = pos\n",
    "            if start != None:\n",
    "                max_captured = max(max_captured, abs(start-end)-1)\n",
    "                start = None\n",
    "        elif forts[pos] == 1:\n",
    "            start = pos\n",
    "            if end != None:\n",
    "                max_captured = max(max_captured, abs(start-end)-1)\n",
    "                end = None\n",
    "    return max_captured"
   ]
  },
  {
   "cell_type": "markdown",
   "id": "3bd63e45",
   "metadata": {},
   "source": []
  },
  {
   "cell_type": "code",
   "execution_count": 1,
   "id": "5e79312e",
   "metadata": {},
   "outputs": [],
   "source": [
    "def foo():\n",
    "    pass"
   ]
  }
 ],
 "metadata": {
  "kernelspec": {
   "display_name": "Python 3",
   "language": "python",
   "name": "python3"
  },
  "language_info": {
   "codemirror_mode": {
    "name": "ipython",
    "version": 3
   },
   "file_extension": ".py",
   "mimetype": "text/x-python",
   "name": "python",
   "nbconvert_exporter": "python",
   "pygments_lexer": "ipython3",
   "version": "3.10.0"
  }
 },
 "nbformat": 4,
 "nbformat_minor": 5
}
