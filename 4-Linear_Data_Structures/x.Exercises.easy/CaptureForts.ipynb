{
 "cells": [
  {
   "cell_type": "markdown",
   "id": "fa8d2d7f",
   "metadata": {},
   "source": [
    "# Capture Enemy Forts\n",
    "\n",
    "## Problem Statement\n",
    "You are given an array with the following values:\n",
    "* -1: empty position\n",
    "* 0 : enemy fort\n",
    "* 1: fort occupied by you\n",
    "\n",
    "Return the maximum number of enemy forts you can capture as you travel from an empty position, to a fort occupied by you. You can only travel through enemy forts,\n",
    "\n",
    "(In other words, return the highest number of continguous 0's between -1 and 1.)\n",
    "\n",
    "### Examples\n",
    "\n",
    "Input: [1,0,0,-1,0,0,0,0,1] \n",
    "Output: 4\n",
    "\n",
    "Traveling from index 3 to index 8, you can capture 4 forts.\n"
   ]
  },
  {
   "cell_type": "markdown",
   "id": "36cb423c",
   "metadata": {},
   "source": [
    "## Two Pointer Solution\n",
    "\n",
    "You can use one pointer `start` to track an empty position and `end` to track a fort occupied by you. You can also have another variable `max_captured` to track the maximum  number of enemy forts between `start` and `end`.\n",
    "\n",
    "Both `start` and `end` are assigned `None` at the beginning. As we iterate over the array we assign `start` and `end` if they meet the conditions. Whenever `start` and `end` both have a value, we recalculate `max_captured`. We reassign `start` and `end` to `None` as needed so we can consider the next solution. \n",
    "\n",
    "### Analysis\n",
    "* Time Complexity: O(N)\n",
    "    * just need to traverse the array once\n",
    "* Space Complexity: O(1)\n",
    "    * just need to store 2 pointers"
   ]
  },
  {
   "cell_type": "code",
   "execution_count": null,
   "id": "11981673",
   "metadata": {},
   "outputs": [],
   "source": [
    "\"\"\"\n",
    "Two Pointer Solution to Capture Forts\n",
    "\"\"\"\n",
    "\n",
    "def captureForts(forts: List[int]) -> int:\n",
    "    max_captured = 0\n",
    "    start = end = None\n",
    "    for pos in range(len(forts)):\n",
    "        if forts[pos] == -1:\n",
    "            end = pos\n",
    "            if start != None:\n",
    "                max_captured = max(max_captured, abs(start-end)-1)\n",
    "                start = None\n",
    "        elif forts[pos] == 1:\n",
    "            start = pos\n",
    "            if end != None:\n",
    "                max_captured = max(max_captured, abs(start-end)-1)\n",
    "                end = None\n",
    "    return max_captured"
   ]
  },
  {
   "cell_type": "markdown",
   "id": "3bd63e45",
   "metadata": {},
   "source": []
  }
 ],
 "metadata": {
  "language_info": {
   "name": "python"
  }
 },
 "nbformat": 4,
 "nbformat_minor": 5
}
