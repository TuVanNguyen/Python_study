{
 "cells": [
  {
   "cell_type": "markdown",
   "id": "fa8d2d7f",
   "metadata": {},
   "source": [
    "# Capture Enemy Forts\n",
    "\n",
    "## Problem Statement\n",
    "You are given an array with the following values:\n",
    "* -1: empty position\n",
    "* 0 : enemy fort\n",
    "* 1: fort occupied by you\n",
    "\n",
    "Return the maximum number of enemy forts you can capture as you travel from an empty position, to a fort occupied by you. You can only travel through enemy forts,\n",
    "\n",
    "(In other words, return the highest number of continguous 0's between -1 and 1.)\n",
    "\n",
    "### Examples\n",
    "\n",
    "Input: \n",
    "Output:"
   ]
  }
 ],
 "metadata": {
  "language_info": {
   "name": "python"
  }
 },
 "nbformat": 4,
 "nbformat_minor": 5
}
