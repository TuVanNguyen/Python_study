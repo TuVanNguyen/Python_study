{
 "cells": [
  {
   "cell_type": "markdown",
   "id": "e867bd48",
   "metadata": {},
   "source": [
    "# Two Pointers\n",
    "* use two variables to traverse a list until you get to a desired solution\n",
    "* often used with arrays or linked list problems\n",
    "\n",
    "### Why Use\n",
    "* eliminate the need of using nested loops, collapsing the time complexity to around O(N)\n",
    "* eliminate the need to create additional space to store information, collapsing the space complexity to around O(1)\n",
    "\n",
    "### Keys to Implementation\n",
    "* each of the two pointers can travel independently and in different directions\n",
    "* you may need another variable to track a condition to determine how the pointers will move or stop\n"
   ]
  },
  {
   "cell_type": "markdown",
   "id": "97c89b68",
   "metadata": {},
   "source": [
    "## Collision\n",
    "* start with `left` and `right` pointers at the edges of an input. Move them towards eachother until they converge\n",
    "\n",
    "### Examples\n",
    "* [Palindrome](x.Exercises.easy/Palindrome.ipynb)\n",
    "* [Flip an Image](x.Exercises.easy\\FlipImage.ipynb)"
   ]
  },
  {
   "cell_type": "markdown",
   "id": "175cd9a5",
   "metadata": {},
   "source": [
    "# Forward\n",
    "* have two pointers traverse the array in the same direction\n",
    "* a very general pattern that can include multiple variations\n",
    "    * the pointers can have different starting points\n",
    "    * the pointers advance different distances under different conditions\n",
    "    * the pointers may always be traversing the array together (sliding window)\n",
    "    * one or both pointer may be out of play at some point (assigned None)\n",
    "\n",
    "### Some Sub-types\n",
    "* fast and slow runner: 1 pointer advances more than the other with each turn\n",
    "* sliding window: 1 pointer advances ahead of the other\n",
    "\n",
    "### Examples\n",
    "* [Capture Enemy Forts](x.Exercises.easy/CaptureForts.ipynb)\n",
    "* [Reverse Linked List](x.Exercises.easy/ReverseLinkedList.ipynb)\n"
   ]
  },
  {
   "cell_type": "markdown",
   "id": "2a8055ee",
   "metadata": {},
   "source": [
    "## Fast and Slow Runner\n",
    "* start the pointers at the beginning. The fast pointer increments more each time than the slow runner. Stop when the slow runner and fast runner converge or the fast runner gets to the end of the list\n",
    "\n",
    "### Examples\n",
    "* [Floyd's Cycle Finding Algorithm](x.Exercises.easy/CycleFinder.ipynb)\n",
    "* [Middle of the Linked List Problem](x.Exercises.easy/LinkedListMidpoint.ipynb)\n"
   ]
  },
  {
   "cell_type": "markdown",
   "id": "1e441335",
   "metadata": {},
   "source": [
    "## Sliding Window\n",
    "* Use two pointers to mark the start and end of a window as we traverse an array\n",
    "* typically used to find \"valid\" subarrays, especially within sorted arrays\n",
    "* can expand or shrink window to find items that find or break constraints\n",
    "* very useful when the alternative is evaluating all the subarrays which can be $O(N^2)$ \n",
    "    the number of elements across all sub arrays is an arithmetic sum\n",
    "* can typically reduce a brute force solution to $O(N)$\n",
    "\n",
    "### How it differs from other Two Pointers\n",
    "* maintains a contiguous range of elements\n",
    "\n",
    "### Implementation\n",
    "* define a starting window (start=end where window size is 0)\n",
    "* define a constraint for including items in the window\n",
    "* assign a variable to track if the constraint is met\n",
    "\n",
    "\n",
    "### Examples\n",
    "* [Moving Zeros](x.Exercises.easy/MovingZeros.ipynb)\n"
   ]
  },
  {
   "cell_type": "markdown",
   "id": "a5ff5aa9",
   "metadata": {},
   "source": [
    "## Parallel Pointers\n",
    "* Use a pair of pointers to traverse a pair of arrays\n",
    "\n",
    "### Examples\n",
    "* [Intersection of Two Linked Lists](x.Exercises.easy/ListIntersection.ipynb)\n",
    "* [Finding Intersection of Two Arrays](6-Search&Sort/x.Exercises.easy/ArrayIntersection.ipynb)\n",
    "* [Assign Cookies](x.Greedy_Algorithms/x.Exercises.easy/AssignCookies.ipynb)\n",
    "* [Backspace String Compare](x.Exercises.easy/BackspaceStringCompare.ipynb)"
   ]
  }
 ],
 "metadata": {
  "kernelspec": {
   "display_name": "Python 3",
   "language": "python",
   "name": "python3"
  },
  "language_info": {
   "name": "python",
   "version": "3.10.0"
  }
 },
 "nbformat": 4,
 "nbformat_minor": 5
}
