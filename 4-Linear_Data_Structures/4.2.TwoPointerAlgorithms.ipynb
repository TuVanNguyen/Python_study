{
 "cells": [
  {
   "cell_type": "markdown",
   "id": "e867bd48",
   "metadata": {},
   "source": [
    "# Two Pointers\n",
    "* use two variables to traverse a list until you get to a desired solution\n",
    "* often used with linked list problems"
   ]
  },
  {
   "cell_type": "markdown",
   "id": "97c89b68",
   "metadata": {},
   "source": [
    "## Left and Right Pointers\n",
    "* start with pointers at the edges of an input. Move them towards eachother until they converge\n",
    "\n",
    "### Examples\n",
    "* [Palindrome](x.Exercises.easy/Palindrome.ipynb)"
   ]
  },
  {
   "cell_type": "markdown",
   "id": "2a8055ee",
   "metadata": {},
   "source": [
    "## Fast and Slow Runner\n",
    "* start the pointers at the beginning. The fast pointer increments more each time than the slow runner. Stop when the slow runner and fast runner converge or the fast runner gets to the end of the list\n",
    "\n",
    "### Examples\n",
    "* [Floyd's Cycle Finding Algorithm](x.Exercises.easy/CycleFinder.ipynb)"
   ]
  },
  {
   "cell_type": "markdown",
   "id": "8d5925a2",
   "metadata": {},
   "source": [
    "###"
   ]
  },
  {
   "cell_type": "markdown",
   "id": "1e441335",
   "metadata": {},
   "source": [
    "## Sliding Window\n",
    "* Use two pointers to mark the start and end of a window as we traverse an array\n",
    "* typically used to find \"valid\" subarrays, especially within sorted arrays\n",
    "* can expand or shrink window to find items that find or break constraints\n",
    "* very useful when the alternative is evaluating all the subarrays which can be $O(N^2)$ \n",
    "    the number of elements across all sub arrays is an arithmetic sum\n",
    "* can typically reduce a brute force solution to $O(N)$\n",
    "\n",
    "### How it differs from Two Pointer\n",
    "* maintains a contiguous range of elements\n",
    "\n",
    "### Implementation\n",
    "* define a starting window (start=end where window size is 0)\n",
    "* define a constraint for including items in the window\n",
    "* assign a variable to track if the constraint is met\n",
    "\n",
    "\n",
    "### Examples\n",
    "\n"
   ]
  }
 ],
 "metadata": {
  "kernelspec": {
   "display_name": "Python 3",
   "language": "python",
   "name": "python3"
  },
  "language_info": {
   "name": "python",
   "version": "3.10.0"
  }
 },
 "nbformat": 4,
 "nbformat_minor": 5
}
