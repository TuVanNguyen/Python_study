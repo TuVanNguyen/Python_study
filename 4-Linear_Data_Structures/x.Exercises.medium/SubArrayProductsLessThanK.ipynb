{
 "cells": [
  {
   "cell_type": "markdown",
   "id": "6d9859fd",
   "metadata": {},
   "source": [
    "# Subarray Products Less Than K\n",
    "\n",
    "Given an array of integers nums and an integer k, return the number of contiguous subarrays where the product of all the elements in the subarray is strictly less than k.\n",
    "\n",
    " \n",
    "\n",
    "### Example 1:\n",
    "\n",
    "Input: nums = [10,5,2,6], k = 100\\\n",
    "Output: 8\\\n",
    "Explanation: The 8 subarrays that have product less than 100 are:\\\n",
    "[10], [5], [2], [6], [10, 5], [5, 2], [2, 6], [5, 2, 6]\\\n",
    "Note that [10, 5, 2] is not included as the product of 100 is not strictly less than k.\n",
    "\n",
    "### Example 2:\n",
    "\n",
    "Input: nums = [1,2,3], k = 0\\\n",
    "Output: 0"
   ]
  },
  {
   "cell_type": "markdown",
   "id": "09026eaf",
   "metadata": {},
   "source": [
    "## Brute Force Approach\n",
    "We can simply try to check each subarray to see if the products are under k, then count it. We can implement this as a double nested loop. For each item in `nums`, we check if we can multiply it with previous elements. If so, we'll add it as a new subarray to our count of valid subarrays. \n",
    "\n",
    "### Analysis\n",
    "*  Time Complexity: $O(N^2)$\n",
    "    * The for loop iterates n times\n",
    "    * The inner while loops ends up being a summation of partial sums in the worst case\n",
    "        * The worst case being the product of all previous numbers are still under K, so we'd have to iterate over all elements before\n",
    "        * Recall that the summation of partial sums equation:  $\\sum_{i=0}^{n}i = \\frac{n(n+1)}{2} = \\frac{1}{2}n^2 + \\frac{1}{2}n$ \n",
    "        * This simplifies to $O(N^2)$\n"
   ]
  },
  {
   "cell_type": "code",
   "execution_count": null,
   "id": "d91e3231",
   "metadata": {},
   "outputs": [],
   "source": [
    "from typing import List\n",
    "\n",
    "\n",
    "def numSubarrayProductLessThanK(nums: List[int], k: int) -> int:\n",
    "        count = 0\n",
    "        for right in range(len(nums)):\n",
    "            product = 1\n",
    "            left = right\n",
    "            while product < k and left >= 0:\n",
    "                product *= nums[left]\n",
    "                if product < k:\n",
    "                    count += 1\n",
    "                left -= 1\n",
    "        return count"
   ]
  },
  {
   "cell_type": "markdown",
   "id": "2b0d6aad",
   "metadata": {},
   "source": [
    "## Sliding Window Approach\n",
    "We can improve the above brute force approach if we avoid recomputing the products for some of the overlapping subarrays. We can do that by use the sliding window approach. We'll need two pointers: `left` and `right`. We start the `left` pointer at index 0 of `nums`. We'll implement the right pointer in a for loop over the array `nums`.  For each number in `nums`, we want to find the sliding window such that the product of everything inside is under k. We have a `prefix_product` variable that keeps track of the cumulative product. If `prefix_product >= k`, we need to move the `left` pointer towards `right` until `prefix_product < k`. Then, we need to add to `count` all the subarrays that make up the sliding window. That will simply be `subarrays = right - left + 1`.\n",
    "\n",
    "### Analysis\n",
    "* Time Complexity: O(N)\n",
    "    * Outer for loop is N\n",
    "    * Although there is an inner while loop...\n",
    "        * worst case scenario, it keeps going until `left==right` \n",
    "        * `left` pointer always moves right and doesn't stop until at most it reaches the end of array\n",
    "        * So, the total iterations of the while loop are N (not multiplied by the iterations of the for loop) \n",
    "    * T(n) = N + N = O(N)\n",
    "* Space Complexity: O(1)\n",
    "\n",
    "\n"
   ]
  },
  {
   "cell_type": "code",
   "execution_count": null,
   "id": "aaec875e",
   "metadata": {},
   "outputs": [],
   "source": [
    "def numSubarrayProductLessThanK(nums: List[int], k: int) -> int:\n",
    "    count = 0\n",
    "    prefix_product = 1\n",
    "    left = 0\n",
    "    for right in range(len(nums)):\n",
    "        prefix_product *= nums[right]\n",
    "        while prefix_product >= k and left < right:\n",
    "            prefix_product /= nums[left]\n",
    "            left += 1\n",
    "        if prefix_product < k:\n",
    "            count += (right-left) + 1\n",
    "    return count"
   ]
  }
 ],
 "metadata": {
  "language_info": {
   "name": "python"
  }
 },
 "nbformat": 4,
 "nbformat_minor": 5
}
