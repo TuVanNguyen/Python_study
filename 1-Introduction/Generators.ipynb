{
 "cells": [
  {
   "cell_type": "markdown",
   "id": "36906656",
   "metadata": {},
   "source": [
    "# Generators\n",
    "\n",
    "Generators are functions that behave like iterators. Instead of returning a value and exiting, it will `yield` a value each time it is iterated over. \n",
    "\n",
    "### Use Cases\n",
    "* processing large data files\n",
    "    * handle data in small parts at a time, saving memory\n",
    "    * don't load all the values at once"
   ]
  },
  {
   "cell_type": "code",
   "execution_count": 4,
   "id": "08b4a119",
   "metadata": {},
   "outputs": [
    {
     "name": "stdout",
     "output_type": "stream",
     "text": [
      "45\n",
      "0\n",
      "1\n",
      "2\n",
      "3\n",
      "4\n",
      "5\n",
      "6\n",
      "7\n",
      "8\n",
      "9\n"
     ]
    }
   ],
   "source": [
    "def firstn(n):\n",
    "    for i in range(n):\n",
    "        yield i\n",
    "\n",
    "sum_of_first_n = sum(firstn(10))\n",
    "print(sum_of_first_n)\n",
    "\n",
    "a = firstn(10)\n",
    "for num in a:\n",
    "    print(num)"
   ]
  },
  {
   "cell_type": "markdown",
   "id": "c27f906a",
   "metadata": {},
   "source": [
    "## Generator Comprehensions"
   ]
  },
  {
   "cell_type": "code",
   "execution_count": null,
   "id": "2d9039f5",
   "metadata": {},
   "outputs": [
    {
     "name": "stdout",
     "output_type": "stream",
     "text": [
      "1\n",
      "4\n",
      "9\n",
      "16\n",
      "25\n"
     ]
    }
   ],
   "source": [
    "# sq is a Generator Comprehension\n",
    "sq = (x*x for x in range(1, 6))\n",
    "for i in sq:\n",
    "    print(i)"
   ]
  }
 ],
 "metadata": {
  "kernelspec": {
   "display_name": "Python 3",
   "language": "python",
   "name": "python3"
  },
  "language_info": {
   "codemirror_mode": {
    "name": "ipython",
    "version": 3
   },
   "file_extension": ".py",
   "mimetype": "text/x-python",
   "name": "python",
   "nbconvert_exporter": "python",
   "pygments_lexer": "ipython3",
   "version": "3.10.0"
  }
 },
 "nbformat": 4,
 "nbformat_minor": 5
}
