{
 "cells": [
  {
   "cell_type": "code",
   "execution_count": null,
   "metadata": {},
   "outputs": [],
   "source": [
    "def sum(n):\n",
    "    if n <= 0:\n",
    "        return n\n",
    "    else:\n",
    "        return n + sum(n-1)"
   ]
  },
  {
   "cell_type": "markdown",
   "metadata": {},
   "source": [
    "# Analysis \n",
    "* Time Complexity O(n)\n",
    "    * we are decrementing n by 1, each time we do recursive call\n",
    "    * so we end up doing the recursion n times\n",
    "*  Space Complexity O(n)\n",
    "    * we end up with a recursive stack of n height"
   ]
  }
 ],
 "metadata": {
  "language_info": {
   "name": "python"
  }
 },
 "nbformat": 4,
 "nbformat_minor": 2
}
