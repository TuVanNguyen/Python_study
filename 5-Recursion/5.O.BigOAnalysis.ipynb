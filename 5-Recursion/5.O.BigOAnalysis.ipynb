{
 "cells": [
  {
   "cell_type": "markdown",
   "metadata": {},
   "source": [
    "# Guidelines to Calculating Complexity With Recursions\n",
    "\n",
    "## Space Complexity\n",
    "* recursive functions create a stack to store intermediate values at each layer of recursion\n",
    "* each time you return a recursive call, you add another layer to the stack\n",
    "* the space complexity is going to be some factor of the height of your recursive stack"
   ]
  },
  {
   "cell_type": "code",
   "execution_count": null,
   "metadata": {},
   "outputs": [],
   "source": [
    "def sum(n):\n",
    "    if n <= 0:\n",
    "        return n\n",
    "    else:\n",
    "        return n + sum(n-1)"
   ]
  },
  {
   "cell_type": "markdown",
   "metadata": {},
   "source": [
    "# Analysis \n",
    "* Time Complexity O(n)\n",
    "    * we are decrementing n by 1, each time we do recursive call\n",
    "    * so we end up doing the recursion n times\n",
    "*  Space Complexity O(n)\n",
    "    * we end up with a recursive stack of n height"
   ]
  }
 ],
 "metadata": {
  "language_info": {
   "name": "python"
  }
 },
 "nbformat": 4,
 "nbformat_minor": 2
}
