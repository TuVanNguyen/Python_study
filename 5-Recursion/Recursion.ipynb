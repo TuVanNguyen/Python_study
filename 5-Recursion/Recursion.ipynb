{
 "cells": [
  {
   "cell_type": "markdown",
   "metadata": {},
   "source": [
    "# Recursion\n",
    "* method of solving problems by continuing to break them into smaller subproblems until they can be solved trivially\n",
    "* usually involves function calling itself\n",
    "\n",
    "### The Three Rules of Recursion\n",
    "- A recursive algorithm must have a base case that is small enough to solve directly\n",
    "- A recursive algorithm must change its state, so that it moves towards the base case (problem size gets smaller typically)\n",
    "- A recursive algorithm must call itself recursively"
   ]
  },
  {
   "cell_type": "code",
   "execution_count": 1,
   "metadata": {},
   "outputs": [
    {
     "name": "stdout",
     "output_type": "stream",
     "text": [
      "25\n",
      "25\n"
     ]
    }
   ],
   "source": [
    "# Example using Summation\n",
    "\n",
    "#Non-recursive function\n",
    "def listsum(numList):\n",
    "    theSum = 0\n",
    "    for i in numList:\n",
    "        theSum = theSum + i\n",
    "    return theSum\n",
    "\n",
    "# Recursive function\n",
    "def recursive_sum(numList):\n",
    "    # The Base Case (crucial to know when to stop recursive calls)\n",
    "    #It is a problem that is small enough to solve directly\n",
    "    if len(numList) == 1:\n",
    "        return numList[0]\n",
    "    #The recursive call which also alters the state to move towards the base case    \n",
    "    return numList[0] + recursive_sum(numList[1:])    \n",
    "\n",
    "print(listsum([1,3,5,7,9]))\n",
    "print(recursive_sum([1,3,5,7,9]))\n"
   ]
  }
 ],
 "metadata": {
  "kernelspec": {
   "display_name": "Python_Study",
   "language": "python",
   "name": "python3"
  },
  "language_info": {
   "codemirror_mode": {
    "name": "ipython",
    "version": 3
   },
   "file_extension": ".py",
   "mimetype": "text/x-python",
   "name": "python",
   "nbconvert_exporter": "python",
   "pygments_lexer": "ipython3",
   "version": "3.10.14"
  }
 },
 "nbformat": 4,
 "nbformat_minor": 2
}
