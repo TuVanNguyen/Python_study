{
 "cells": [
  {
   "cell_type": "markdown",
   "id": "20b75f37",
   "metadata": {},
   "source": [
    "# Assign Cookies\n",
    "\n",
    "You have kids, and each kid `i` has a greed factor `g[i]`. You have cookies, and each cookie `i` is of size `s[i]`. Each kid will only accept a cookie with a size equal or greater than their greed factor. A kid gets at most 1 cookie. Return how many kids you can satisfy.\n",
    "\n",
    "### Example\n",
    "Input: g = [1,2,3], s = [1,1]\n",
    "\n",
    "Output: 1\n",
    "\n",
    "Explanation: You have 3 children and 2 cookies. The greed factors of 3 children are 1, 2, 3. \n",
    "And even though you have 2 cookies, since their size is both 1, you could only make the child whose greed factor is 1 content.\n",
    "You need to output 1.\n",
    "\n",
    "### Example\n",
    "Input: g = [1,2], s = [1,2,3]\n",
    "\n",
    "Output: 2\n",
    "\n",
    "Explanation: You have 2 children and 3 cookies. The greed factors of 2 children are 1, 2. \n",
    "You have 3 cookies and their sizes are big enough to gratify all of the children, \n",
    "You need to output 2.\n",
    "\n",
    "[Leetcode Problem Link](https://leetcode.com/problems/assign-cookies/description)\n"
   ]
  },
  {
   "cell_type": "markdown",
   "id": "5f39dedf",
   "metadata": {},
   "source": [
    "## Greedy Parralel Two Pointer Approach\n",
    "In order to optimize the number of children we satisfy, we should try to assign to each child the smallest size cookie they'd accept. This makes this problem a candidate for a greedy algorithm. To implement, we should sort both the greed factor and the cookie size arrays. \n",
    "\n",
    "Then, we can use parralel two pointers to iterate through both arrays. We will start with the least greedy child and the smallest cookie at the beginning of the arrays. If the child accepts the cookie, we move on to the next child and next size cookie. If not, we'll just move onto the next size cookie. We stop the iteration when we run out of kids or cookies.\n",
    "\n",
    "\n",
    "### Analysis\n",
    "* Time Complexity: O(MlogM + NlogN)\n",
    "    * sorting the children is T(M) = MlogM\n",
    "    * sorting the cookies is T(N) = NlogN\n",
    "    * iterating through the arrays is min(N,M), but we can ignore since it's a smaller factor than sorting either array\n",
    "    * T(n) = MlogM + NlogN = O(MlogM + NlogN)\n",
    "* Space Complexity: O(M+N)\n",
    "    * we need to create new arrays for the sorted children and cookies"
   ]
  },
  {
   "cell_type": "code",
   "execution_count": null,
   "id": "ecdfdef8",
   "metadata": {},
   "outputs": [],
   "source": [
    "from typing import List\n",
    "\n",
    "def findContentChildren(self, g: List[int], s: List[int]) -> int:\n",
    "    g= sorted(g)\n",
    "    s = sorted(s)\n",
    "    p_g = 0\n",
    "    p_s = 0\n",
    "    content = 0\n",
    "\n",
    "    while p_g < len(g) and p_s < len(s):\n",
    "        if g[p_g] <= s[p_s]:\n",
    "            content += 1\n",
    "            p_g += 1\n",
    "        p_s += 1\n",
    "    return content"
   ]
  }
 ],
 "metadata": {
  "language_info": {
   "name": "python"
  }
 },
 "nbformat": 4,
 "nbformat_minor": 5
}
