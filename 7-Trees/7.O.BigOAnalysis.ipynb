{
 "cells": [
  {
   "cell_type": "markdown",
   "metadata": {},
   "source": [
    "# Big O Analysis"
   ]
  },
  {
   "cell_type": "code",
   "execution_count": null,
   "metadata": {},
   "outputs": [],
   "source": [
    "\"\"\"\n",
    "Building a Binary Heap\n",
    "\"\"\"\n",
    "\n",
    "class BinHeap:\n",
    "    def __init__(self):\n",
    "        self.heapList = [0]\n",
    "        self.currentSize = 0\n",
    "\n",
    "    def percDown(self,i):\n",
    "        while (i * 2) <= self.currentSize:\n",
    "            mc = self.minChild(i)\n",
    "            if self.heapList[i] > self.heapList[mc]:\n",
    "                tmp = self.heapList[i]\n",
    "                self.heapList[i] = self.heapList[mc]\n",
    "                self.heapList[mc] = tmp\n",
    "            i = mc\n",
    "\n",
    "    def minChild(self,i):\n",
    "        if i * 2 + 1 > self.currentSize:\n",
    "            return i * 2\n",
    "        else:\n",
    "            if self.heapList[i*2] < self.heapList[i*2+1]:\n",
    "                return i * 2\n",
    "            else:\n",
    "                return i * 2 + 1\n",
    "\n",
    "    def buildHeap(self,alist):\n",
    "        i = len(alist) // 2\n",
    "        self.currentSize = len(alist)\n",
    "        self.heapList = [0] + alist[:]\n",
    "        while (i > 0):\n",
    "            self.percDown(i)\n",
    "            i = i - 1"
   ]
  },
  {
   "cell_type": "markdown",
   "metadata": {},
   "source": [
    "## Analyzing Building a Big Heap\n",
    "\n",
    "#### minChild()\n",
    "* Time Complexity: O(1)\n",
    "    * no loops or recursions mean that there aren't iterations with variable time\n",
    "    * if statements are constant time\n",
    "* Space Complexity: O(1)\n",
    "\n",
    "#### percDown()\n",
    "* Time Complexity: O(log(n))\n",
    "    * There's a while loop that iterates until we reach the end of the heap\n",
    "    * For each iteration, we are doubling our position. So, our distance to the end of the list halves each time\n",
    "    * So for a list of length n, the number of iterations would be $iterations = log_2(n)$\n",
    "* Space Complexity: O(1)\n",
    "\n",
    "#### buildHeap()\n",
    "* Time Complexity: O(n); n = (# items in heap), h = (height of tree)\n",
    "  1. h = $log_2(n)$ because the heap represents a binary tree\n",
    "  1. The bottom level (level=0) has half the nodes $(n_0=n/2)$, because the heap represents a binary tree\n",
    "      1. the level above (level=1) had half the nodes of the bottom level $(n_1=n/4)$\n",
    "      1. level=2, $n_2=n/8$\n",
    "      1. ...\n",
    "      1. level = h; $n_h = 1$ (root node)\n",
    "      1. $n_i \\le \\frac{n}{2^{i+1}}$\n",
    "  1. When we perform the percDown() function in buildHeap(), time complexity is O(i) where i = (height of subtree)\n",
    "      1. Another way of saying $O(log(n_i))$ where $n_i$ is the number of nodes at height i\n",
    "    \n"
   ]
  }
 ],
 "metadata": {
  "language_info": {
   "name": "python"
  }
 },
 "nbformat": 4,
 "nbformat_minor": 2
}
