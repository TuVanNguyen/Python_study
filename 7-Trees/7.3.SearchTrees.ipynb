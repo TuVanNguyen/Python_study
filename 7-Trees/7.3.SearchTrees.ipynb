{
 "cells": [
  {
   "cell_type": "markdown",
   "metadata": {},
   "source": [
    "# Search Trees"
   ]
  },
  {
   "cell_type": "markdown",
   "metadata": {},
   "source": [
    "## Binary Search Trees\n",
    "\n",
    "### Properties\n",
    "* **bst** property:\n",
    "    * left subtree: contains keys less than the parent\n",
    "    * right subtree: contains keys greater than the parent"
   ]
  }
 ],
 "metadata": {
  "language_info": {
   "name": "python"
  }
 },
 "nbformat": 4,
 "nbformat_minor": 2
}
