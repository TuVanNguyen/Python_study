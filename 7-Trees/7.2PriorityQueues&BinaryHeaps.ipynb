{
 "cells": [
  {
   "cell_type": "markdown",
   "metadata": {},
   "source": [
    "# Priority Queues\n",
    "* Priority queues order items by priority\n",
    "    * insert (enqueue) new items into their position by priority\n",
    "    * remove (dequeue) items at the front first (the highest priority items)\n",
    "\n",
    "### Implementing Priority Queue with Binary Heap\n",
    "* Binary heaps lets us enqueue and dequeue items in $O(log n)\n",
    "    * As opposed to enqueing with a sequential search function which is $O(n)$\n",
    "\n",
    "## Binary Heaps\n",
    "\n",
    "### Structure\n",
    "* binary heaps are a representation of **complete binary trees** like the one below\n",
    "    * at each level besides the bottom, each node had both a left and right child\n",
    "    * the tree is [balanced](7.1.Trees.ipynb#Balanced-Trees)\n",
    "        * because balanced trees have heights that are O(log(n)), search and insert are O(log(n))\n",
    "\n",
    "[<img src=\"completeBinaryTree.png\" width=\"600\"/>](attachment:completeBinaryTree.png)\n",
    "\n",
    "### Representing Tree as a List\n",
    "* The binary heap is a simple list\n",
    "    * the node order is a level-order traversal (i.e breath-first traversal)\n",
    "        1. start at the the root level (height=0)\n",
    "        1. from left to right, visit all the nodes at that level\n",
    "        1. go to the next level, and repeat #2\n",
    "\n",
    "* The binary heap for the above tree would be below\n",
    "\n",
    "| Position |1|2|3|4|5|6|7|8|9|10|\n",
    "|-|-|-|-|-|-|-|-|-|-|-|\n",
    "| Value |5|9|11|14|18|19|21|33|17|27|\n",
    "\n",
    "### Properties of the Binary Heap List\n",
    "* for each item at position n\n",
    "    * left child is at position = 2n\n",
    "    * right child is at postion = 2n + 1\n",
    "* The **heap order property**\n",
    "    * for every node *x* with parent *p*, the value of *p* is smaller than or equal to the value of *x*\n",
    "\n",
    "\n"
   ]
  }
 ],
 "metadata": {
  "language_info": {
   "name": "python"
  }
 },
 "nbformat": 4,
 "nbformat_minor": 2
}
