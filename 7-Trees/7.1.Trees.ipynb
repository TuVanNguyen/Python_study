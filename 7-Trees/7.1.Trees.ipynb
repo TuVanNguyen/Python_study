{
 "cells": [
  {
   "cell_type": "markdown",
   "metadata": {},
   "source": [
    "# Trees\n",
    "* stores data in a clearly defined hierarchy\n",
    "\n",
    "### Examples outside of Computer Science:\n",
    "* family tree\n",
    "* corporate organizational charts\n",
    "\n",
    "### Examples of Uses of Trees on Computers\n",
    "* file directories\n",
    "* trees splitting HTML pages into tags\n",
    "\n",
    "### Key Terms\n",
    "\n",
    "* Node: points on a tree\n",
    "    * Key: name of node\n",
    "    * Payload: additional information the node stores\n",
    "    * Root: the only node with no incoming edges in a tree\n",
    "    * level (of a node): the number of edges that a node is from the root\n",
    "    * Leaf node: node with no children\n",
    "    * Children: nodes with incoming edges, connecting them to their parents\n",
    "    * Parents: nodes with outgoing edges, connecting them to their children\n",
    "    * Sibling: nodes with the same parent\n",
    "* Edge: connection between two nodes\n",
    "    * edges can be incoming (i.e A is connected to B, A belongs to B), or outgoing (i.e A connects to B, A owns B)\n",
    "* Path: ordered list of nodes connected by edges\n",
    "* subtree: set of nodes and edges for a parent and all the descendants of that parent, who is also a child in a larger tree\n",
    "* Height: the maximum level of any node on a tree\n",
    "\n",
    "### Formal Definition #1 of a Tree \n",
    "*  A tree consists of a set of nodes and a set of edges that connects pairs of nodes such that:\n",
    "    * there's only one root node\n",
    "    \n",
    "\n",
    "\n"
   ]
  }
 ],
 "metadata": {
  "language_info": {
   "name": "python"
  }
 },
 "nbformat": 4,
 "nbformat_minor": 2
}
